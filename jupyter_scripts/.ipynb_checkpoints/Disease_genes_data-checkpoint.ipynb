{
 "cells": [
  {
   "cell_type": "code",
   "execution_count": 1,
   "id": "4da2d706-6d37-4b90-989f-3a4fc1969942",
   "metadata": {},
   "outputs": [],
   "source": [
    "import pandas as pd\n",
    "import numpy as np\n",
    "import matplotlib.pyplot as plt\n",
    "import matplotlib.backends.backend_pdf\n",
    "import matplotlib as mpl\n",
    "from matplotlib.colors import LinearSegmentedColormap, ListedColormap"
   ]
  },
  {
   "cell_type": "code",
   "execution_count": 2,
   "id": "0bd5c9a6-c359-493d-b2c0-5b5591d21d06",
   "metadata": {},
   "outputs": [],
   "source": [
    "#disease_genes_read= \"/home/androx/Documents/trabalho/datasets/Disease_genes/gene_associations.tsv\"\n",
    "#dg_df = pd.read_csv(disease_genes_read, sep=\"\\t\")\n",
    "\n",
    "#dg_df"
   ]
  },
  {
   "cell_type": "code",
   "execution_count": 3,
   "id": "232e8e38-14a5-4177-8deb-e7a5e9d1b52e",
   "metadata": {},
   "outputs": [],
   "source": [
    "#genes_diseases_read= \"/home/androx/Documents/trabalho/datasets/Disease_genes/disease_associations.tsv\"\n",
    "#gd_df = pd.read_csv(genes_diseases_read, sep=\"\\t\")\n",
    "\n",
    "#gd_df"
   ]
  },
  {
   "cell_type": "code",
   "execution_count": 4,
   "id": "f9d8a1a2-706d-4d92-bfe8-44990fdc06f1",
   "metadata": {},
   "outputs": [],
   "source": [
    "#variant_gene_read= \"/home/androx/Documents/trabalho/datasets/Disease_genes/variant_to_gene_mappings.tsv\"\n",
    "#vtg_df = pd.read_csv(variant_gene_read, sep=\"\\t\")\n",
    "\n",
    "#vtg_df"
   ]
  },
  {
   "cell_type": "code",
   "execution_count": 5,
   "id": "483f6869-5329-4813-b27f-1139be4f6601",
   "metadata": {},
   "outputs": [
    {
     "data": {
      "text/html": [
       "<div>\n",
       "<style scoped>\n",
       "    .dataframe tbody tr th:only-of-type {\n",
       "        vertical-align: middle;\n",
       "    }\n",
       "\n",
       "    .dataframe tbody tr th {\n",
       "        vertical-align: top;\n",
       "    }\n",
       "\n",
       "    .dataframe thead th {\n",
       "        text-align: right;\n",
       "    }\n",
       "</style>\n",
       "<table border=\"1\" class=\"dataframe\">\n",
       "  <thead>\n",
       "    <tr style=\"text-align: right;\">\n",
       "      <th></th>\n",
       "      <th>Gene Symbol</th>\n",
       "      <th>Gene Name</th>\n",
       "      <th>Locus</th>\n",
       "      <th>MalaCards &lt;http://www.malacards.org/&gt;</th>\n",
       "    </tr>\n",
       "  </thead>\n",
       "  <tbody>\n",
       "    <tr>\n",
       "      <th>0</th>\n",
       "      <td>Disorders (sorted by relevance)</td>\n",
       "      <td>NaN</td>\n",
       "      <td>NaN</td>\n",
       "      <td>NaN</td>\n",
       "    </tr>\n",
       "    <tr>\n",
       "      <th>1</th>\n",
       "      <td>A1BG &lt;https://www.genecards.org/cgi-bin/carddi...</td>\n",
       "      <td>Alpha-1-</td>\n",
       "      <td>NaN</td>\n",
       "      <td>NaN</td>\n",
       "    </tr>\n",
       "    <tr>\n",
       "      <th>2</th>\n",
       "      <td>B Glycoprotein</td>\n",
       "      <td>19q13.43 &lt;https://www.genecards.org/cgi-bin/ca...</td>\n",
       "      <td>NaN</td>\n",
       "      <td>NaN</td>\n",
       "    </tr>\n",
       "    <tr>\n",
       "      <th>3</th>\n",
       "      <td>gene=A1BG#genomic_location&gt;</td>\n",
       "      <td>NaN</td>\n",
       "      <td>NaN</td>\n",
       "      <td>NaN</td>\n",
       "    </tr>\n",
       "    <tr>\n",
       "      <th>4</th>\n",
       "      <td>* Voyeurism &lt;http://www.malacards.org/card/v...</td>\n",
       "      <td>NaN</td>\n",
       "      <td>NaN</td>\n",
       "      <td>NaN</td>\n",
       "    </tr>\n",
       "    <tr>\n",
       "      <th>...</th>\n",
       "      <td>...</td>\n",
       "      <td>...</td>\n",
       "      <td>...</td>\n",
       "      <td>...</td>\n",
       "    </tr>\n",
       "    <tr>\n",
       "      <th>511141</th>\n",
       "      <td>Finger ZZ-Type Containing 3</td>\n",
       "      <td>1p31.1 &lt;https://www.genecards.org/cgi-bin/</td>\n",
       "      <td>NaN</td>\n",
       "      <td>NaN</td>\n",
       "    </tr>\n",
       "    <tr>\n",
       "      <th>511142</th>\n",
       "      <td>carddisp.pl?gene=ZZZ3#genomic_location&gt;</td>\n",
       "      <td>NaN</td>\n",
       "      <td>NaN</td>\n",
       "      <td>NaN</td>\n",
       "    </tr>\n",
       "    <tr>\n",
       "      <th>511143</th>\n",
       "      <td>* Combined Oxidative Phosphorylation Deficie...</td>\n",
       "      <td>NaN</td>\n",
       "      <td>NaN</td>\n",
       "      <td>NaN</td>\n",
       "    </tr>\n",
       "    <tr>\n",
       "      <th>511144</th>\n",
       "      <td>www.malacards.org/card/</td>\n",
       "      <td>NaN</td>\n",
       "      <td>NaN</td>\n",
       "      <td>NaN</td>\n",
       "    </tr>\n",
       "    <tr>\n",
       "      <th>511145</th>\n",
       "      <td>combined_oxidative_phosphorylation_deficie...</td>\n",
       "      <td>NaN</td>\n",
       "      <td>NaN</td>\n",
       "      <td>NaN</td>\n",
       "    </tr>\n",
       "  </tbody>\n",
       "</table>\n",
       "<p>511146 rows × 4 columns</p>\n",
       "</div>"
      ],
      "text/plain": [
       "                                             Gene Symbol   \\\n",
       "0                         Disorders (sorted by relevance)   \n",
       "1       A1BG <https://www.genecards.org/cgi-bin/carddi...   \n",
       "2                                         B Glycoprotein    \n",
       "3                            gene=A1BG#genomic_location>    \n",
       "4         * Voyeurism <http://www.malacards.org/card/v...   \n",
       "...                                                   ...   \n",
       "511141                       Finger ZZ-Type Containing 3    \n",
       "511142           carddisp.pl?gene=ZZZ3#genomic_location>    \n",
       "511143    * Combined Oxidative Phosphorylation Deficie...   \n",
       "511144                            www.malacards.org/card/   \n",
       "511145      combined_oxidative_phosphorylation_deficie...   \n",
       "\n",
       "                                               Gene Name  Locus   \\\n",
       "0                                                     NaN    NaN   \n",
       "1                                                Alpha-1-    NaN   \n",
       "2       19q13.43 <https://www.genecards.org/cgi-bin/ca...    NaN   \n",
       "3                                                     NaN    NaN   \n",
       "4                                                     NaN    NaN   \n",
       "...                                                   ...    ...   \n",
       "511141         1p31.1 <https://www.genecards.org/cgi-bin/    NaN   \n",
       "511142                                                NaN    NaN   \n",
       "511143                                                NaN    NaN   \n",
       "511144                                                NaN    NaN   \n",
       "511145                                                NaN    NaN   \n",
       "\n",
       "        MalaCards <http://www.malacards.org/>  \n",
       "0                                         NaN  \n",
       "1                                         NaN  \n",
       "2                                         NaN  \n",
       "3                                         NaN  \n",
       "4                                         NaN  \n",
       "...                                       ...  \n",
       "511141                                    NaN  \n",
       "511142                                    NaN  \n",
       "511143                                    NaN  \n",
       "511144                                    NaN  \n",
       "511145                                    NaN  \n",
       "\n",
       "[511146 rows x 4 columns]"
      ]
     },
     "execution_count": 5,
     "metadata": {},
     "output_type": "execute_result"
    }
   ],
   "source": [
    "disease_genes_list = \"/home/androx/Documents/trabalho/datasets/Disease_genes/GenesAssociatedwithDiseases_GeneCards.txt\"\n",
    "dgl_df = pd.read_csv(disease_genes_list, sep=\"\\t\")\n",
    "\n",
    "dgl_df"
   ]
  },
  {
   "cell_type": "code",
   "execution_count": 6,
   "id": "48f05a60-d9c8-4f0a-8c88-45579b89dcea",
   "metadata": {},
   "outputs": [],
   "source": [
    "def remove_emptyLines(dg_list):\n",
    "    n_empty=dg_list.count(\"\\n\")\n",
    "    for i in range (len(dg_list)-n_empty):\n",
    "        if dg_list[i]==(\"\\n\"):\n",
    "            poped_item = dg_list.pop(i)"
   ]
  },
  {
   "cell_type": "code",
   "execution_count": 7,
   "id": "9cea1733-e1f3-4698-8ec7-dd9ae2f1aeb8",
   "metadata": {},
   "outputs": [
    {
     "name": "stdout",
     "output_type": "stream",
     "text": [
      "['Gene Symbol \\tGene Name \\tLocus \\tMalaCards <http://www.malacards.org/> \\tDisorders (sorted by relevance)\\n', 'A1BG <https://www.genecards.org/cgi-bin/carddisp.pl?gene=A1BG> \\tAlpha-1-\\n', 'B Glycoprotein \\t19q13.43 <https://www.genecards.org/cgi-bin/carddisp.pl?\\n', 'gene=A1BG#genomic_location> \\t\\n', '\\n', '  * Voyeurism <http://www.malacards.org/card/voyeurism>\\n']\n"
     ]
    }
   ],
   "source": [
    "disease_genes = open(disease_genes_list, \"r\")\n",
    "dg_list = disease_genes.readlines()\n",
    "dg_list[0] = dg_list[0][:-1] + \" \\t\" + dg_list[1]\n",
    "dg_list.pop(1)\n",
    "print(dg_list[:6])\n",
    "disease_genes.close()"
   ]
  },
  {
   "cell_type": "markdown",
   "id": "6c828ff1-5700-4566-8f71-faa8a21f61a8",
   "metadata": {},
   "source": [
    "Atenção! Algumas alterações no código só em efeito depois de reiniciar a lista."
   ]
  },
  {
   "cell_type": "code",
   "execution_count": 8,
   "id": "0e32a753-453d-4d81-9b8f-318658ba9703",
   "metadata": {},
   "outputs": [
    {
     "name": "stdout",
     "output_type": "stream",
     "text": [
      "0 Gene Symbol \tGene Name \tLocus \tMalaCards <http://www.malacards.org/> \tDisorders (sorted by relevance)\n",
      "\n",
      "1 A1BG <https://www.genecards.org/cgi-bin/carddisp.pl?gene=A1BG> \tAlpha-1-\n",
      "\n",
      "2 B Glycoprotein \t19q13.43 <https://www.genecards.org/cgi-bin/carddisp.pl?\n",
      "\n",
      "3 gene=A1BG#genomic_location> \t\n",
      "\n",
      "4   * Voyeurism <http://www.malacards.org/card/voyeurism>\n",
      "\n",
      "5 A1CF <https://www.genecards.org/cgi-bin/carddisp.pl?gene=A1CF> \tAPOBEC1\n",
      "\n",
      "3 A1CF <https://www.genecards.org/cgi-bin/carddisp.pl?gene=A1CF> \tAPOBEC1\n",
      "\n",
      "['Gene Symbol \\tGene Name \\tLocus \\tMalaCards <http://www.malacards.org/> \\tDisorders (sorted by relevance)\\n', 'A1BG <https://www.genecards.org/cgi-bin/carddisp.pl?gene=A1BG> \\tAlpha-1-\\nB Glycoprotein \\t19q13.43 <https://www.genecards.org/cgi-bin/carddisp.pl?\\ngene=A1BG#genomic_location> \\t\\n', '  * Voyeurism <http://www.malacards.org/card/voyeurism>\\n', 'A1CF <https://www.genecards.org/cgi-bin/carddisp.pl?gene=A1CF> \\tAPOBEC1\\nComplementation Factor \\t10q11.23 <https://www.genecards.org/cgi-bin/\\ncarddisp.pl?gene=A1CF#genomic_location> \\t\\n', '  * Lynch Syndrome 2 <http://www.malacards.org/card/lynch_syndrome_2>\\n', \"A2M <https://www.genecards.org/cgi-bin/carddisp.pl?gene=A2M> \\tAlpha-2-\\nMacroglobulin \\t12p13.31 <https://www.genecards.org/cgi-bin/carddisp.pl?\\ngene=A2M#genomic_location> \\t\\n  * Alpha-2-Macroglobulin Deficiency <http://www.malacards.org/card/\\n    alpha_2_macroglobulin_deficiency>\\n  * Alzheimer Disease, Familial, 1 <http://www.malacards.org/card/\\n    alzheimer_disease_familial_1>\\n  * Alzheimer's Disease <http://www.malacards.org/card/alzheimers_disease>\\n  * Cerebral Amyloid Angiopathy <http://www.malacards.org/card/\\n    cerebral_amyloid_angiopathy>\\n  * Mastitis <http://www.malacards.org/card/mastitis>\\n  * See all 10 »\\n  * Gingivitis <http://www.malacards.org/card/gingivitis>\\n  * Nephrotic Syndrome <http://www.malacards.org/card/nephrotic_syndrome>\\n  * Breast Intraductal Papillomatosis <http://www.malacards.org/card/\\n    breast_intraductal_papillomatosis>\\n  * Cystic Fibrosis <http://www.malacards.org/card/cystic_fibrosis>\\n  * Deficiency Anemia <http://www.malacards.org/card/deficiency_anemia>\\n\"]\n"
     ]
    }
   ],
   "source": [
    "remove_emptyLines(dg_list)\n",
    "line_count = 0\n",
    "disease_count = 0\n",
    "n_diseaseLines = 0\n",
    "debug_count1 = 0\n",
    "i = 0\n",
    "while i <= 20532: #len(dg_list):\n",
    "    \n",
    "    if debug_count1 <= 6:\n",
    "        print(i, dg_list[i])\n",
    "        debug_count1+=1\n",
    "    if \"*\" in dg_list[i]:\n",
    "        #dg_list[i] = dg_list[i][4:]\n",
    "        disease_count += 1\n",
    "        line_count = 0\n",
    "        i+=1\n",
    "    else:\n",
    "        line_count+=1\n",
    "        if line_count == 1:\n",
    "            n_diseaseLines = disease_count   #number of diseases of each gene is counted\n",
    "        disease_count = 0\n",
    "        if line_count == 1 and n_diseaseLines > 0:    #first line just after another genetic-disease row\n",
    "            line_length = n_diseaseLines + 3\n",
    "            dg_list[i-line_length : i-1] = [''.join(dg_list[i-line_length : i-1])]\n",
    "            i = i-line_length+2\n",
    "        else:\n",
    "            i+=1\n",
    "print(dg_list[:6])      "
   ]
  },
  {
   "cell_type": "code",
   "execution_count": 9,
   "id": "48a425fb-8cad-4c31-9a17-791fda815e1b",
   "metadata": {},
   "outputs": [
    {
     "name": "stdout",
     "output_type": "stream",
     "text": [
      "carddisp.pl?gene=ZZZ3#genomic_location> \t\n",
      "\n"
     ]
    }
   ],
   "source": [
    "print(dg_list[-5]) "
   ]
  },
  {
   "cell_type": "code",
   "execution_count": 10,
   "id": "fa3cab8a-6a1e-491c-9204-2082a0736a50",
   "metadata": {},
   "outputs": [
    {
     "name": "stdout",
     "output_type": "stream",
     "text": [
      "['Gene Symbol \\tGene Name \\tLocus \\tMalaCards <http://www.malacards.org/> \\tDisorders (sorted by relevance)\\n', 'A1BG <https://www.genecards.org/cgi-bin/carddisp.pl?gene=A1BG> \\tAlpha-1-\\nB Glycoprotein \\t19q13.43 <https://www.genecards.org/cgi-bin/carddisp.pl?\\ngene=A1BG#genomic_location> \\t  * Voyeurism <http://www.malacards.org/card/voyeurism>\\n', 'A1CF <https://www.genecards.org/cgi-bin/carddisp.pl?gene=A1CF> \\tAPOBEC1\\nComplementation Factor \\t10q11.23 <https://www.genecards.org/cgi-bin/\\ncarddisp.pl?gene=A1CF#genomic_location> \\t  * Lynch Syndrome 2 <http://www.malacards.org/card/lynch_syndrome_2>\\n', \"A2M <https://www.genecards.org/cgi-bin/carddisp.pl?gene=A2M> \\tAlpha-2-\\nMacroglobulin \\t12p13.31 <https://www.genecards.org/cgi-bin/carddisp.pl?\\ngene=A2M#genomic_location> \\t\\n  * Alpha-2-Macroglobulin Deficiency <http://www.malacards.org/card/\\n    alpha_2_macroglobulin_deficiency>\\n  * Alzheimer Disease, Familial, 1 <http://www.malacards.org/card/\\n    alzheimer_disease_familial_1>\\n  * Alzheimer's Disease <http://www.malacards.org/card/alzheimers_disease>\\n  * Cerebral Amyloid Angiopathy <http://www.malacards.org/card/\\n    cerebral_amyloid_angiopathy>\\n  * Mastitis <http://www.malacards.org/card/mastitis>\\n  * See all 10 »\\n  * Gingivitis <http://www.malacards.org/card/gingivitis>\\n  * Nephrotic Syndrome <http://www.malacards.org/card/nephrotic_syndrome>\\n  * Breast Intraductal Papillomatosis <http://www.malacards.org/card/\\n    breast_intraductal_papillomatosis>\\n  * Cystic Fibrosis <http://www.malacards.org/card/cystic_fibrosis>\\n  * Deficiency Anemia <http://www.malacards.org/card/deficiency_anemia>  * See less «\\n\", 'A2M-AS1 <https://www.genecards.org/cgi-bin/carddisp.pl?gene=A2M-AS1> \\t\\nA2M Antisense RNA 1 \\t12p13.31 <https://www.genecards.org/cgi-bin/\\ncarddisp.pl?gene=A2M-AS1#genomic_location> \\t  * Gastric Cancer <http://www.malacards.org/card/gastric_cancer>\\n', 'A2ML1 <https://www.genecards.org/cgi-bin/carddisp.pl?gene=A2ML1> \\t\\nAlpha-2-Macroglobulin Like 1 \\t12p13.31 <https://www.genecards.org/cgi-\\nbin/carddisp.pl?gene=A2ML1#genomic_location> \\t\\n  * Otitis Media <http://www.malacards.org/card/otitis_media>\\n  * Paraneoplastic Pemphigus <http://www.malacards.org/card/\\n    paraneoplastic_pemphigus>\\n  * Pemphigus <http://www.malacards.org/card/pemphigus>\\n  * Chronic Purulent Otitis Media <http://www.malacards.org/card/\\n    chronic_purulent_otitis_media>\\n  * Suppurative Otitis Media <http://www.malacards.org/card/\\n    suppurative_otitis_media>\\n  * See all 24 »  * Noonan Syndrome-Like Disorder With Loose Anagen Hair 2 <http://\\n    www.malacards.org/card/\\n    noonan_syndrome_like_disorder_with_loose_anagen_hair_2>\\n  * Achilles Bursitis <http://www.malacards.org/card/achilles_bursitis>\\n  * Subcorneal Pustular Dermatosis <http://www.malacards.org/card/\\n    subcorneal_pustular_dermatosis>\\n  * Pseudomembranous Conjunctivitis <http://www.malacards.org/card/\\n    pseudomembranous_conjunctivitis>\\n  * Iga Pemphigus <http://www.malacards.org/card/iga_pemphigus>\\n  * Neurofibromatosis-Noonan Syndrome <http://www.malacards.org/card/\\n    neurofibromatosis_noonan_syndrome>\\n  * Cardiofaciocutaneous Syndrome <http://www.malacards.org/card/\\n    cardiofaciocutaneous_syndrome>\\n  * Acute Conjunctivitis <http://www.malacards.org/card/\\n    acute_conjunctivitis>\\n  * Pulmonary Valve Stenosis <http://www.malacards.org/card/\\n    pulmonary_valve_stenosis>\\n  * Pulmonary Valve Disease <http://www.malacards.org/card/\\n    pulmonary_valve_disease>\\n  * Rasopathy <http://www.malacards.org/card/rasopathy>\\n  * Cystic Lymphangioma <http://www.malacards.org/card/cystic_lymphangioma>  * Noonan Syndrome-Like Disorder With Loose Anagen Hair <http://\\n    www.malacards.org/card/\\n    noonan_syndrome_like_disorder_with_loose_anagen_hair>\\n  * Castleman Disease <http://www.malacards.org/card/castleman_disease>\\n  * Bronchiolitis Obliterans <http://www.malacards.org/card/\\n    bronchiolitis_obliterans>\\n  * Noonan Syndrome With Multiple Lentigines <http://www.malacards.org/\\n    card/noonan_syndrome_with_multiple_lentigines>\\n  * Costello Syndrome <http://www.malacards.org/card/costello_syndrome>\\n  * Bullous Skin Disease <http://www.malacards.org/card/\\n    bullous_skin_disease>\\n  * Noonan Syndrome 1 <http://www.malacards.org/card/noonan_syndrome_1>  * See less «\\n']\n"
     ]
    }
   ],
   "source": [
    "#todas as linhas que começam com \"  * \" merge com a linha anterior\n",
    "i =1\n",
    "j = len(dg_list)-1\n",
    "while i < j: #len(dg_list):\n",
    "    if \"*\" in dg_list[i+1][:3]:\n",
    "        dg_list[i] = dg_list[i][:-1]\n",
    "        dg_list[i] += ''.join(dg_list[i+1])\n",
    "        del dg_list[i+1]\n",
    "        j-=1\n",
    "    else:\n",
    "        i+=1\n",
    "        \n",
    "print(dg_list[:6])"
   ]
  },
  {
   "cell_type": "code",
   "execution_count": 11,
   "id": "14747127-1603-4f57-a541-1df12fce529d",
   "metadata": {},
   "outputs": [
    {
     "name": "stdout",
     "output_type": "stream",
     "text": [
      "carddisp.pl?gene=ZZZ3#genomic_location> \t  * Combined Oxidative Phosphorylation Deficiency 20 <http://\n",
      "\n"
     ]
    }
   ],
   "source": [
    "print(dg_list[-4])"
   ]
  },
  {
   "cell_type": "code",
   "execution_count": 12,
   "id": "dbca208d-f432-4e0c-bfbc-3ea76d2a3676",
   "metadata": {},
   "outputs": [],
   "source": [
    "for gene in range (1, len(dg_list[1:])):\n",
    "    nn = dg_list[gene].count(\"\\n\")\n",
    "    if nn > 1:\n",
    "        for n in range(nn-1):\n",
    "            index = dg_list[gene].find(\"\\n\")\n",
    "            if index != len(dg_list[gene])-1 and index != len(dg_list[gene]):\n",
    "                dg_list[gene] = dg_list[gene][:index-1] + dg_list[gene][index+1:]\n",
    "\n",
    "#print(dg_list[:6])"
   ]
  },
  {
   "cell_type": "code",
   "execution_count": 13,
   "id": "2a5be6cb-5c44-442f-8327-0654052e8f9b",
   "metadata": {},
   "outputs": [
    {
     "name": "stdout",
     "output_type": "stream",
     "text": [
      " \tMalaCards <http://www.malacards.org/> \n"
     ]
    }
   ],
   "source": [
    "print(dg_list[0][29:69])\n",
    "dg_list[0] = dg_list[0][:29] + dg_list[0][69:]\n"
   ]
  },
  {
   "cell_type": "code",
   "execution_count": 14,
   "id": "985603b0-ec62-445d-bb4e-b9f7743f76b2",
   "metadata": {},
   "outputs": [
    {
     "name": "stdout",
     "output_type": "stream",
     "text": [
      "['Gene Symbol \\tGene Name \\tLocus\\tDisorders (sorted by relevance)\\n', 'A1BG <https://www.genecards.org/cgi-bin/carddisp.pl?gene=A1BG> \\tAlpha-1B Glycoprotein \\t19q13.43 <https://www.genecards.org/cgi-bin/carddisp.plgene=A1BG#genomic_location> \\t  * Voyeurism <http://www.malacards.org/card/voyeurism>\\n', 'A1CF <https://www.genecards.org/cgi-bin/carddisp.pl?gene=A1CF> \\tAPOBECComplementation Factor \\t10q11.23 <https://www.genecards.org/cgi-bincarddisp.pl?gene=A1CF#genomic_location> \\t  * Lynch Syndrome 2 <http://www.malacards.org/card/lynch_syndrome_2>\\n', \"A2M <https://www.genecards.org/cgi-bin/carddisp.pl?gene=A2M> \\tAlpha-2Macroglobulin \\t12p13.31 <https://www.genecards.org/cgi-bin/carddisp.plgene=A2M#genomic_location>   * Alpha-2-Macroglobulin Deficiency <http://www.malacards.org/card    alpha_2_macroglobulin_deficiency  * Alzheimer Disease, Familial, 1 <http://www.malacards.org/card    alzheimer_disease_familial_1  * Alzheimer's Disease <http://www.malacards.org/card/alzheimers_disease  * Cerebral Amyloid Angiopathy <http://www.malacards.org/card    cerebral_amyloid_angiopathy  * Mastitis <http://www.malacards.org/card/mastitis  * See all 10   * Gingivitis <http://www.malacards.org/card/gingivitis  * Nephrotic Syndrome <http://www.malacards.org/card/nephrotic_syndrome  * Breast Intraductal Papillomatosis <http://www.malacards.org/card    breast_intraductal_papillomatosis  * Cystic Fibrosis <http://www.malacards.org/card/cystic_fibrosis  * Deficiency Anemia <http://www.malacards.org/card/deficiency_anemia>  * See less «\\n\"]\n"
     ]
    }
   ],
   "source": [
    "print(dg_list[:4])"
   ]
  },
  {
   "cell_type": "code",
   "execution_count": 15,
   "id": "a41ae66a-d744-43a9-831a-8951cea97bdd",
   "metadata": {},
   "outputs": [
    {
     "name": "stdout",
     "output_type": "stream",
     "text": [
      "A2M <https://www.genecards.org/cgi-bin/carddisp.pl?gene=A2M> \tAlpha-2Macroglobulin \t12p13.31 <https://www.genecards.org/cgi-bin/carddisp.plgene=A2M#genomic_location>   * Alpha-2-Macroglobulin Deficiency <http://www.malacards.org/card    alpha_2_macroglobulin_deficiency  * Alzheimer Disease, Familial, 1 <http://www.malacards.org/card    alzheimer_disease_familial_1  * Alzheimer's Disease <http://www.malacards.org/card/alzheimers_disease  * Cerebral Amyloid Angiopathy <http://www.malacards.org/card    cerebral_amyloid_angiopathy  * Mastitis <http://www.malacards.org/card/mastitis  * See all 10   * Gingivitis <http://www.malacards.org/card/gingivitis  * Nephrotic Syndrome <http://www.malacards.org/card/nephrotic_syndrome  * Breast Intraductal Papillomatosis <http://www.malacards.org/card    breast_intraductal_papillomatosis  * Cystic Fibrosis <http://www.malacards.org/card/cystic_fibrosis  * Deficiency Anemia <http://www.malacards.org/card/deficiency_anemia>  * See less «\n",
      "\n"
     ]
    }
   ],
   "source": [
    "print(dg_list[3])"
   ]
  },
  {
   "cell_type": "code",
   "execution_count": 16,
   "id": "c228cf1a-80b9-4361-aa3e-e600df5abab1",
   "metadata": {},
   "outputs": [],
   "source": [
    "#resolver o problem 1: coluna das doenças, as instancias com mais de uma doença, separar da coluna anterior \"locus\" com \\t\n",
    "for row in range (1, len(dg_list[1:])-1):\n",
    "    if dg_list[row].count(\"*\") > 1 and dg_list[row].count(\"\\t\") < 3:\n",
    "        index = dg_list[row].find(\"*\")\n",
    "        dg_list[row] = dg_list[row][:index-1] + \"\\t\" + dg_list[row][index:]"
   ]
  },
  {
   "cell_type": "code",
   "execution_count": 17,
   "id": "11a931a6-0e1c-4ee2-8096-5ce172db1b3e",
   "metadata": {},
   "outputs": [
    {
     "name": "stdout",
     "output_type": "stream",
     "text": [
      "[\"A2M <https://www.genecards.org/cgi-bin/carddisp.pl?gene=A2M> \\tAlpha-2Macroglobulin \\t12p13.31 <https://www.genecards.org/cgi-bin/carddisp.plgene=A2M#genomic_location>  \\t* Alpha-2-Macroglobulin Deficiency <http://www.malacards.org/card    alpha_2_macroglobulin_deficiency  * Alzheimer Disease, Familial, 1 <http://www.malacards.org/card    alzheimer_disease_familial_1  * Alzheimer's Disease <http://www.malacards.org/card/alzheimers_disease  * Cerebral Amyloid Angiopathy <http://www.malacards.org/card    cerebral_amyloid_angiopathy  * Mastitis <http://www.malacards.org/card/mastitis  * See all 10   * Gingivitis <http://www.malacards.org/card/gingivitis  * Nephrotic Syndrome <http://www.malacards.org/card/nephrotic_syndrome  * Breast Intraductal Papillomatosis <http://www.malacards.org/card    breast_intraductal_papillomatosis  * Cystic Fibrosis <http://www.malacards.org/card/cystic_fibrosis  * Deficiency Anemia <http://www.malacards.org/card/deficiency_anemia>  * See less «\\n\"]\n"
     ]
    }
   ],
   "source": [
    "print(dg_list[3:4])"
   ]
  },
  {
   "cell_type": "code",
   "execution_count": 18,
   "id": "3baf7392-183c-4573-8c88-3464c0c3cca9",
   "metadata": {},
   "outputs": [
    {
     "name": "stdout",
     "output_type": "stream",
     "text": [
      "['A2M-AS1 <https://www.genecards.org/cgi-bin/carddisp.pl?gene=A2M-AS1> A2M Antisense RNA 1 \\t12p13.31 <https://www.genecards.org/cgi-bincarddisp.pl?gene=A2M-AS1#genomic_location> \\t  * Gastric Cancer <http://www.malacards.org/card/gastric_cancer>\\n']\n"
     ]
    }
   ],
   "source": [
    "print(dg_list[4:5])"
   ]
  },
  {
   "cell_type": "code",
   "execution_count": 19,
   "id": "044a8ab0-cef0-455c-9b8c-d5c2dff0de66",
   "metadata": {},
   "outputs": [],
   "source": [
    "#resolver o problem 2: apartir do gene na posicao 4, entre o simbolo e o nome falta o \\t\n",
    "for row in range (1, len(dg_list[1:])-1):\n",
    "    if dg_list[row].count(\"\\t\") < 3:\n",
    "        index = dg_list[row].find(\">\")\n",
    "        dg_list[row] = dg_list[row][:index+2] + \"\\t\" + dg_list[row][index+2:]"
   ]
  },
  {
   "cell_type": "code",
   "execution_count": 20,
   "id": "314a7ac5-0989-4108-a0b4-c6a06dc9c368",
   "metadata": {},
   "outputs": [
    {
     "name": "stdout",
     "output_type": "stream",
     "text": [
      "['A2M-AS1 <https://www.genecards.org/cgi-bin/carddisp.pl?gene=A2M-AS1> \\tA2M Antisense RNA 1 \\t12p13.31 <https://www.genecards.org/cgi-bincarddisp.pl?gene=A2M-AS1#genomic_location> \\t  * Gastric Cancer <http://www.malacards.org/card/gastric_cancer>\\n']\n"
     ]
    }
   ],
   "source": [
    "print(dg_list[4:5])"
   ]
  },
  {
   "cell_type": "code",
   "execution_count": 21,
   "id": "78c2b2d0-7b95-445b-bb9b-bb393e4945d3",
   "metadata": {},
   "outputs": [
    {
     "name": "stdout",
     "output_type": "stream",
     "text": [
      "['ZYX <https://www.genecards.org/cgi-bin/carddisp.pl?gene=ZYX> \\t\\tZyxin \\t\\n', '7\\tq34 <https://www.genecards.org/cgi-bin/carddisp.pl?\\n', 'gene=ZYX#genomic_location> \\t\\t  * Lipomatosis, Familial Multiple <http://www.malacards.org/card/\\n', '    lipomatosis_familial_multiple> \\t * Ewing Sarcoma <http://www.malacards.org/card/ewing_sarcoma>\\n', 'ZZZ3 <https://www.genecards.org/cgi-bin/carddisp.pl?gene=ZZZ3> \\t\\tZinc\\n']\n"
     ]
    }
   ],
   "source": [
    "print(dg_list[166383: 166388])"
   ]
  },
  {
   "cell_type": "code",
   "execution_count": 23,
   "id": "e30daa31-8fbf-4a19-a2ce-cba2cb0fdd60",
   "metadata": {},
   "outputs": [
    {
     "ename": "KeyboardInterrupt",
     "evalue": "",
     "output_type": "error",
     "traceback": [
      "\u001b[0;31m---------------------------------------------------------------------------\u001b[0m",
      "\u001b[0;31mKeyboardInterrupt\u001b[0m                         Traceback (most recent call last)",
      "Cell \u001b[0;32mIn[23], line 4\u001b[0m\n\u001b[1;32m      2\u001b[0m length \u001b[38;5;241m=\u001b[39m \u001b[38;5;28mlen\u001b[39m(dg_list)\u001b[38;5;241m-\u001b[39m\u001b[38;5;241m1\u001b[39m\n\u001b[1;32m      3\u001b[0m \u001b[38;5;28;01mwhile\u001b[39;00m row \u001b[38;5;241m<\u001b[39m length: \n\u001b[0;32m----> 4\u001b[0m     \u001b[38;5;28;01mif\u001b[39;00m (dg_list[row]\u001b[38;5;241m.\u001b[39mcount(\u001b[38;5;124m\"\u001b[39m\u001b[38;5;124m*\u001b[39m\u001b[38;5;124m\"\u001b[39m) \u001b[38;5;241m==\u001b[39m \u001b[38;5;241m0\u001b[39m \u001b[38;5;129;01mand\u001b[39;00m dg_list[row\u001b[38;5;241m+\u001b[39m\u001b[38;5;241m1\u001b[39m]\u001b[38;5;241m.\u001b[39mcount(\u001b[38;5;124m\"\u001b[39m\u001b[38;5;124m*\u001b[39m\u001b[38;5;124m\"\u001b[39m) \u001b[38;5;241m==\u001b[39m \u001b[38;5;241m0\u001b[39m) \u001b[38;5;129;01mor\u001b[39;00m (dg_list[row]\u001b[38;5;241m.\u001b[39mcount(\u001b[38;5;124m\"\u001b[39m\u001b[38;5;124m*\u001b[39m\u001b[38;5;124m\"\u001b[39m) \u001b[38;5;241m==\u001b[39m \u001b[38;5;241m1\u001b[39m \u001b[38;5;129;01mand\u001b[39;00m dg_list[row\u001b[38;5;241m+\u001b[39m\u001b[38;5;241m1\u001b[39m]\u001b[38;5;241m.\u001b[39mcount(\u001b[38;5;124m\"\u001b[39m\u001b[38;5;124m*\u001b[39m\u001b[38;5;124m\"\u001b[39m) \u001b[38;5;241m==\u001b[39m \u001b[38;5;241m0\u001b[39m) \u001b[38;5;129;01mor\u001b[39;00m dg_list[row]\u001b[38;5;241m.\u001b[39mcount(\u001b[38;5;124m\"\u001b[39m\u001b[38;5;124m<\u001b[39m\u001b[38;5;124m\"\u001b[39m) \u001b[38;5;241m>\u001b[39m \u001b[43mdg_list\u001b[49m\u001b[43m[\u001b[49m\u001b[43mrow\u001b[49m\u001b[43m]\u001b[49m\u001b[38;5;241;43m.\u001b[39;49m\u001b[43mcount\u001b[49m\u001b[43m(\u001b[49m\u001b[38;5;124;43m\"\u001b[39;49m\u001b[38;5;124;43m>\u001b[39;49m\u001b[38;5;124;43m\"\u001b[39;49m\u001b[43m)\u001b[49m:\n\u001b[1;32m      5\u001b[0m         dg_list[row] \u001b[38;5;241m=\u001b[39m dg_list[row][:\u001b[38;5;241m-\u001b[39m\u001b[38;5;241m1\u001b[39m]\n\u001b[1;32m      6\u001b[0m         dg_list[row\u001b[38;5;241m+\u001b[39m\u001b[38;5;241m1\u001b[39m] \u001b[38;5;241m=\u001b[39m dg_list[row\u001b[38;5;241m+\u001b[39m\u001b[38;5;241m1\u001b[39m][:\u001b[38;5;241m-\u001b[39m\u001b[38;5;241m1\u001b[39m]\n",
      "\u001b[0;31mKeyboardInterrupt\u001b[0m: "
     ]
    }
   ],
   "source": [
    "row =1\n",
    "length = len(dg_list)-1\n",
    "while row < length: \n",
    "    if (dg_list[row].count(\"*\") == 0 and dg_list[row+1].count(\"*\") == 0) or (dg_list[row].count(\"*\") == 1 and dg_list[row+1].count(\"*\") == 0):\n",
    "        dg_list[row] = dg_list[row][:-1]\n",
    "        dg_list[row+1] = dg_list[row+1][:-1]\n",
    "        dg_list[row] += ''.join(dg_list[row+1])\n",
    "        del dg_list[row+1]\n",
    "        length-=1\n",
    "    else:\n",
    "        row+=1\n",
    "        "
   ]
  },
  {
   "cell_type": "code",
   "execution_count": 24,
   "id": "c36418c8-2d37-441a-ac30-e6d9ffbad93c",
   "metadata": {},
   "outputs": [
    {
     "name": "stdout",
     "output_type": "stream",
     "text": [
      "['    prostate_cancer_hereditary_10> \\t * Prostate Cancer <http://www.malacards.org/card/prostate_cancer>\\n', 'HPC14 <https://www.genecards.org/cgi-bin/carddisp.pl?gene=HPC14> \\t\\t\\n', 'P\\trostate Cancer, Hereditary, 14 \\t11q13 <https://www.genecards.org/cgi-\\n']\n"
     ]
    }
   ],
   "source": [
    "print(dg_list[16298: 16301])"
   ]
  },
  {
   "cell_type": "code",
   "execution_count": 25,
   "id": "d41abe99-066d-4cbb-b366-24ca3f1809b0",
   "metadata": {},
   "outputs": [
    {
     "name": "stdout",
     "output_type": "stream",
     "text": [
      "['CD164L2 <https://www.genecards.org/cgi-bin/carddisp.pl?gene=CD164L2> \\tCD164 Molecule Like 2 \\t1p36.11 <https://www.genecards.org/cgi-bincarddisp.pl?gene=CD164L2#genomic_location>  \\t* Deafness, Autosomal Recessive 115 <http://www.malacards.org/card    deafness_autosomal_recessive_115  * Deafness, Autosomal Recessive 109 <http://www.malacards.org/card    deafness_autosomal_recessive_109  * Deafness, Autosomal Recessive 44 <http://www.malacards.org/card    deafness_autosomal_recessive_44  * Deafness, Autosomal Recessive 18B <http://www.malacards.org/card    deafness_autosomal_recessive_18b_2  * Deafness, Autosomal Recessive 18A <http://www.malacards.org/card    deafness_autosomal_recessive_18a  * See all 8   * Deafness, Autosomal Recessive 84B <http://www.malacards.org/card    deafness_autosomal_recessive_84b  * Deafness, Autosomal Recessive 98 <http://www.malacards.org/card    deafness_autosomal_recessive_98  * Deafness, Autosomal Recessive 1A <http://www.malacards.org/card    deafness_autosomal_recessive_1a>  * See less «\\n', 'CD177 <https://www.genecards.org/cgi-bin/carddisp.pl?gene=CD177> \\tCD17Molecule \\t19q13.31 <https://www.genecards.org/cgi-bin/carddisp.plgene=CD177#genomic_location>  \\t* Polycythemia <http://www.malacards.org/card/polycythemia  * Polycythemia Vera <http://www.malacards.org/card/polycythemia_vera  * Essential Thrombocythemia <http://www.malacards.org/card    essential_thrombocythemia  * Myelofibrosis <http://www.malacards.org/card/myelofibrosis  * Deep Leiomyoma <http://www.malacards.org/card/deep_leiomyoma  * See all 11   * Neutropenia <http://www.malacards.org/card/neutropenia  * Thrombocytosis <http://www.malacards.org/card/thrombocytosis  * Myeloproliferative Neoplasm <http://www.malacards.org/card    myeloproliferative_neoplasm  * Leukemia, Chronic Myeloid <http://www.malacards.org/card    leukemia_chronic_myeloid  * Myopathy, Centronuclear, 1 <http://www.malacards.org/card    myopathy_centronuclear_1  * Myelodysplastic Syndrome <http://www.malacards.org/card    myelodysplastic_syndrome>  * See less «\\n']\n"
     ]
    }
   ],
   "source": [
    "#print(dg_list[13].count(\"\\t\"))\n",
    "print(dg_list[11:13])"
   ]
  },
  {
   "cell_type": "code",
   "execution_count": null,
   "id": "86a68e32-53d7-4426-ab03-e447d2787e51",
   "metadata": {},
   "outputs": [],
   "source": [
    "###(dg_list[row].count(\"<\") > dg_list[row].count(\">\"))"
   ]
  },
  {
   "cell_type": "code",
   "execution_count": null,
   "id": "324467ad-96f5-465f-8e2d-ff1a4e8509c0",
   "metadata": {},
   "outputs": [],
   "source": [
    "f = open(\"disease_genesList.txt\", \"w\")\n",
    "f.write(dg_list[0])\n",
    "for i in dg_list[1:]:\n",
    "    f.write(i)\n",
    "f.close()"
   ]
  },
  {
   "cell_type": "code",
   "execution_count": null,
   "id": "7440e4fb-1d2b-4f27-ac0c-304468621935",
   "metadata": {},
   "outputs": [],
   "source": [
    "disease_genes_list = \"disease_genesList.txt\"\n",
    "dgl_df = pd.read_csv(disease_genes_list, sep=\"\\t\")\n",
    "\n",
    "dgl_df"
   ]
  },
  {
   "cell_type": "code",
   "execution_count": null,
   "id": "7a4b588b-0321-4d11-a109-d0f301a158c5",
   "metadata": {},
   "outputs": [],
   "source": []
  },
  {
   "cell_type": "code",
   "execution_count": null,
   "id": "dc150778-c276-4ba6-8e71-6fa8117b89b5",
   "metadata": {},
   "outputs": [],
   "source": []
  }
 ],
 "metadata": {
  "kernelspec": {
   "display_name": "Python 3 (ipykernel)",
   "language": "python",
   "name": "python3"
  },
  "language_info": {
   "codemirror_mode": {
    "name": "ipython",
    "version": 3
   },
   "file_extension": ".py",
   "mimetype": "text/x-python",
   "name": "python",
   "nbconvert_exporter": "python",
   "pygments_lexer": "ipython3",
   "version": "3.10.12"
  }
 },
 "nbformat": 4,
 "nbformat_minor": 5
}
