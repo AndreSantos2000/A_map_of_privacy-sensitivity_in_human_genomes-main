{
 "cells": [
  {
   "cell_type": "code",
   "execution_count": 1,
   "id": "76bbc95f-90bc-4178-be4e-3057adcb2174",
   "metadata": {},
   "outputs": [],
   "source": [
    "import pandas as pd\n",
    "import numpy as np\n",
    "import copy"
   ]
  },
  {
   "cell_type": "code",
   "execution_count": 2,
   "id": "adf1ed79-33d9-4bd4-a067-49dfff536cc0",
   "metadata": {},
   "outputs": [],
   "source": [
    "tanscripts_read= \"/home/andre/Documents/trabalho/datasets/Disease_genes/mane/Homo_sapiens.GRCh38.112.chr.gff3\"\n",
    "tanscripts_df = pd.read_csv(tanscripts_read, sep=\"\\t\", header=None)"
   ]
  },
  {
   "cell_type": "code",
   "execution_count": 3,
   "id": "26e817ec-b05a-4add-967c-9281e2f37327",
   "metadata": {},
   "outputs": [
    {
     "data": {
      "text/html": [
       "<div>\n",
       "<style scoped>\n",
       "    .dataframe tbody tr th:only-of-type {\n",
       "        vertical-align: middle;\n",
       "    }\n",
       "\n",
       "    .dataframe tbody tr th {\n",
       "        vertical-align: top;\n",
       "    }\n",
       "\n",
       "    .dataframe thead th {\n",
       "        text-align: right;\n",
       "    }\n",
       "</style>\n",
       "<table border=\"1\" class=\"dataframe\">\n",
       "  <thead>\n",
       "    <tr style=\"text-align: right;\">\n",
       "      <th></th>\n",
       "      <th>Chr</th>\n",
       "      <th>Genome</th>\n",
       "      <th>Type</th>\n",
       "      <th>First_index</th>\n",
       "      <th>Last_index</th>\n",
       "      <th>Value</th>\n",
       "      <th>Signal</th>\n",
       "      <th>Unknown</th>\n",
       "      <th>Identifiers</th>\n",
       "    </tr>\n",
       "  </thead>\n",
       "  <tbody>\n",
       "    <tr>\n",
       "      <th>0</th>\n",
       "      <td>1</td>\n",
       "      <td>GRCh38</td>\n",
       "      <td>chromosome</td>\n",
       "      <td>1.0</td>\n",
       "      <td>248956422.0</td>\n",
       "      <td>.</td>\n",
       "      <td>.</td>\n",
       "      <td>.</td>\n",
       "      <td>ID=chromosome:1;Alias=CM000663.2,chr1,NC_00000...</td>\n",
       "    </tr>\n",
       "    <tr>\n",
       "      <th>1</th>\n",
       "      <td>1</td>\n",
       "      <td>.</td>\n",
       "      <td>biological_region</td>\n",
       "      <td>10469.0</td>\n",
       "      <td>11240.0</td>\n",
       "      <td>1.3e+03</td>\n",
       "      <td>.</td>\n",
       "      <td>.</td>\n",
       "      <td>external_name=oe %3D 0.79;logic_name=cpg</td>\n",
       "    </tr>\n",
       "    <tr>\n",
       "      <th>2</th>\n",
       "      <td>1</td>\n",
       "      <td>.</td>\n",
       "      <td>biological_region</td>\n",
       "      <td>10650.0</td>\n",
       "      <td>10657.0</td>\n",
       "      <td>0.999</td>\n",
       "      <td>+</td>\n",
       "      <td>.</td>\n",
       "      <td>logic_name=eponine</td>\n",
       "    </tr>\n",
       "    <tr>\n",
       "      <th>3</th>\n",
       "      <td>1</td>\n",
       "      <td>.</td>\n",
       "      <td>biological_region</td>\n",
       "      <td>10655.0</td>\n",
       "      <td>10657.0</td>\n",
       "      <td>0.999</td>\n",
       "      <td>-</td>\n",
       "      <td>.</td>\n",
       "      <td>logic_name=eponine</td>\n",
       "    </tr>\n",
       "    <tr>\n",
       "      <th>4</th>\n",
       "      <td>1</td>\n",
       "      <td>.</td>\n",
       "      <td>biological_region</td>\n",
       "      <td>10678.0</td>\n",
       "      <td>10687.0</td>\n",
       "      <td>0.999</td>\n",
       "      <td>+</td>\n",
       "      <td>.</td>\n",
       "      <td>logic_name=eponine</td>\n",
       "    </tr>\n",
       "    <tr>\n",
       "      <th>...</th>\n",
       "      <td>...</td>\n",
       "      <td>...</td>\n",
       "      <td>...</td>\n",
       "      <td>...</td>\n",
       "      <td>...</td>\n",
       "      <td>...</td>\n",
       "      <td>...</td>\n",
       "      <td>...</td>\n",
       "      <td>...</td>\n",
       "    </tr>\n",
       "    <tr>\n",
       "      <th>3516515</th>\n",
       "      <td>Y</td>\n",
       "      <td>.</td>\n",
       "      <td>biological_region</td>\n",
       "      <td>57215804.0</td>\n",
       "      <td>57215813.0</td>\n",
       "      <td>0.999</td>\n",
       "      <td>-</td>\n",
       "      <td>.</td>\n",
       "      <td>logic_name=eponine</td>\n",
       "    </tr>\n",
       "    <tr>\n",
       "      <th>3516516</th>\n",
       "      <td>Y</td>\n",
       "      <td>.</td>\n",
       "      <td>biological_region</td>\n",
       "      <td>57215832.0</td>\n",
       "      <td>57215840.0</td>\n",
       "      <td>0.999</td>\n",
       "      <td>+</td>\n",
       "      <td>.</td>\n",
       "      <td>logic_name=eponine</td>\n",
       "    </tr>\n",
       "    <tr>\n",
       "      <th>3516517</th>\n",
       "      <td>Y</td>\n",
       "      <td>.</td>\n",
       "      <td>biological_region</td>\n",
       "      <td>57215833.0</td>\n",
       "      <td>57215842.0</td>\n",
       "      <td>0.999</td>\n",
       "      <td>-</td>\n",
       "      <td>.</td>\n",
       "      <td>logic_name=eponine</td>\n",
       "    </tr>\n",
       "    <tr>\n",
       "      <th>3516518</th>\n",
       "      <td>Y</td>\n",
       "      <td>.</td>\n",
       "      <td>biological_region</td>\n",
       "      <td>57215862.0</td>\n",
       "      <td>57215867.0</td>\n",
       "      <td>0.999</td>\n",
       "      <td>+</td>\n",
       "      <td>.</td>\n",
       "      <td>logic_name=eponine</td>\n",
       "    </tr>\n",
       "    <tr>\n",
       "      <th>3516519</th>\n",
       "      <td>Y</td>\n",
       "      <td>.</td>\n",
       "      <td>biological_region</td>\n",
       "      <td>57215862.0</td>\n",
       "      <td>57215870.0</td>\n",
       "      <td>0.999</td>\n",
       "      <td>-</td>\n",
       "      <td>.</td>\n",
       "      <td>logic_name=eponine</td>\n",
       "    </tr>\n",
       "  </tbody>\n",
       "</table>\n",
       "<p>3516520 rows × 9 columns</p>\n",
       "</div>"
      ],
      "text/plain": [
       "        Chr  Genome               Type  First_index   Last_index    Value  \\\n",
       "0         1  GRCh38         chromosome          1.0  248956422.0        .   \n",
       "1         1       .  biological_region      10469.0      11240.0  1.3e+03   \n",
       "2         1       .  biological_region      10650.0      10657.0    0.999   \n",
       "3         1       .  biological_region      10655.0      10657.0    0.999   \n",
       "4         1       .  biological_region      10678.0      10687.0    0.999   \n",
       "...      ..     ...                ...          ...          ...      ...   \n",
       "3516515   Y       .  biological_region   57215804.0   57215813.0    0.999   \n",
       "3516516   Y       .  biological_region   57215832.0   57215840.0    0.999   \n",
       "3516517   Y       .  biological_region   57215833.0   57215842.0    0.999   \n",
       "3516518   Y       .  biological_region   57215862.0   57215867.0    0.999   \n",
       "3516519   Y       .  biological_region   57215862.0   57215870.0    0.999   \n",
       "\n",
       "        Signal Unknown                                        Identifiers  \n",
       "0            .       .  ID=chromosome:1;Alias=CM000663.2,chr1,NC_00000...  \n",
       "1            .       .           external_name=oe %3D 0.79;logic_name=cpg  \n",
       "2            +       .                                 logic_name=eponine  \n",
       "3            -       .                                 logic_name=eponine  \n",
       "4            +       .                                 logic_name=eponine  \n",
       "...        ...     ...                                                ...  \n",
       "3516515      -       .                                 logic_name=eponine  \n",
       "3516516      +       .                                 logic_name=eponine  \n",
       "3516517      -       .                                 logic_name=eponine  \n",
       "3516518      +       .                                 logic_name=eponine  \n",
       "3516519      -       .                                 logic_name=eponine  \n",
       "\n",
       "[3516520 rows x 9 columns]"
      ]
     },
     "execution_count": 3,
     "metadata": {},
     "output_type": "execute_result"
    }
   ],
   "source": [
    "tanscripts_df = tanscripts_df.rename(columns={0: 'Chr', 1: 'Genome', 2: 'Type', 3: 'First_index', 4: 'Last_index', 5: 'Value', 6: 'Signal', 7: 'Unknown', 8: 'Identifiers'})\n",
    "tanscripts_df"
   ]
  },
  {
   "cell_type": "code",
   "execution_count": 4,
   "id": "825616cb-efb1-41a7-ad24-7d37b88a4ba6",
   "metadata": {},
   "outputs": [
    {
     "data": {
      "text/plain": [
       "array(['chromosome', 'biological_region', 'ncRNA_gene', 'lnc_RNA', 'exon',\n",
       "       nan, 'pseudogene', 'pseudogenic_transcript', 'miRNA', 'gene',\n",
       "       'mRNA', 'five_prime_UTR', 'CDS', 'three_prime_UTR', 'snRNA',\n",
       "       'transcript', 'unconfirmed_transcript', 'snoRNA', 'scRNA', 'rRNA',\n",
       "       'processed_transcript', 'V_gene_segment', 'D_gene_segment',\n",
       "       'J_gene_segment', 'C_gene_segment', 'tRNA'], dtype=object)"
      ]
     },
     "execution_count": 4,
     "metadata": {},
     "output_type": "execute_result"
    }
   ],
   "source": [
    "tanscripts_df['Type'].unique()"
   ]
  },
  {
   "cell_type": "code",
   "execution_count": 11,
   "id": "c222a6d0-c245-4a09-9841-a28c8c92f0e0",
   "metadata": {},
   "outputs": [],
   "source": [
    "chromosmes = tanscripts_df.loc[tanscripts_df['Type'] == \"chromosome\"]\n",
    "#chromosmes"
   ]
  },
  {
   "cell_type": "code",
   "execution_count": 9,
   "id": "9705c583-88d5-407a-9a91-207fe43763b5",
   "metadata": {},
   "outputs": [
    {
     "data": {
      "text/html": [
       "<div>\n",
       "<style scoped>\n",
       "    .dataframe tbody tr th:only-of-type {\n",
       "        vertical-align: middle;\n",
       "    }\n",
       "\n",
       "    .dataframe tbody tr th {\n",
       "        vertical-align: top;\n",
       "    }\n",
       "\n",
       "    .dataframe thead th {\n",
       "        text-align: right;\n",
       "    }\n",
       "</style>\n",
       "<table border=\"1\" class=\"dataframe\">\n",
       "  <thead>\n",
       "    <tr style=\"text-align: right;\">\n",
       "      <th></th>\n",
       "      <th>Chr</th>\n",
       "      <th>Genome</th>\n",
       "      <th>Type</th>\n",
       "      <th>First_index</th>\n",
       "      <th>Last_index</th>\n",
       "      <th>Value</th>\n",
       "      <th>Signal</th>\n",
       "      <th>Unknown</th>\n",
       "      <th>Identifiers</th>\n",
       "    </tr>\n",
       "  </thead>\n",
       "  <tbody>\n",
       "    <tr>\n",
       "      <th>99</th>\n",
       "      <td>1</td>\n",
       "      <td>havana</td>\n",
       "      <td>CDS</td>\n",
       "      <td>65565.0</td>\n",
       "      <td>65573.0</td>\n",
       "      <td>.</td>\n",
       "      <td>+</td>\n",
       "      <td>0</td>\n",
       "      <td>ID=CDS:ENSP00000493376;Parent=transcript:ENST0...</td>\n",
       "    </tr>\n",
       "    <tr>\n",
       "      <th>100</th>\n",
       "      <td>1</td>\n",
       "      <td>havana</td>\n",
       "      <td>CDS</td>\n",
       "      <td>69037.0</td>\n",
       "      <td>70008.0</td>\n",
       "      <td>.</td>\n",
       "      <td>+</td>\n",
       "      <td>0</td>\n",
       "      <td>ID=CDS:ENSP00000493376;Parent=transcript:ENST0...</td>\n",
       "    </tr>\n",
       "    <tr>\n",
       "      <th>398</th>\n",
       "      <td>1</td>\n",
       "      <td>ensembl_havana</td>\n",
       "      <td>CDS</td>\n",
       "      <td>450740.0</td>\n",
       "      <td>451678.0</td>\n",
       "      <td>.</td>\n",
       "      <td>-</td>\n",
       "      <td>0</td>\n",
       "      <td>ID=CDS:ENSP00000409316;Parent=transcript:ENST0...</td>\n",
       "    </tr>\n",
       "    <tr>\n",
       "      <th>544</th>\n",
       "      <td>1</td>\n",
       "      <td>ensembl_havana</td>\n",
       "      <td>CDS</td>\n",
       "      <td>685716.0</td>\n",
       "      <td>686654.0</td>\n",
       "      <td>.</td>\n",
       "      <td>-</td>\n",
       "      <td>0</td>\n",
       "      <td>ID=CDS:ENSP00000329982;Parent=transcript:ENST0...</td>\n",
       "    </tr>\n",
       "    <tr>\n",
       "      <th>1165</th>\n",
       "      <td>1</td>\n",
       "      <td>havana</td>\n",
       "      <td>CDS</td>\n",
       "      <td>924432.0</td>\n",
       "      <td>924948.0</td>\n",
       "      <td>.</td>\n",
       "      <td>+</td>\n",
       "      <td>0</td>\n",
       "      <td>ID=CDS:ENSP00000478421;Parent=transcript:ENST0...</td>\n",
       "    </tr>\n",
       "    <tr>\n",
       "      <th>...</th>\n",
       "      <td>...</td>\n",
       "      <td>...</td>\n",
       "      <td>...</td>\n",
       "      <td>...</td>\n",
       "      <td>...</td>\n",
       "      <td>...</td>\n",
       "      <td>...</td>\n",
       "      <td>...</td>\n",
       "      <td>...</td>\n",
       "    </tr>\n",
       "    <tr>\n",
       "      <th>3516411</th>\n",
       "      <td>Y</td>\n",
       "      <td>havana</td>\n",
       "      <td>CDS</td>\n",
       "      <td>57209532.0</td>\n",
       "      <td>57209733.0</td>\n",
       "      <td>.</td>\n",
       "      <td>+</td>\n",
       "      <td>0</td>\n",
       "      <td>ID=CDS:ENSP00000518618;Parent=transcript:ENST0...</td>\n",
       "    </tr>\n",
       "    <tr>\n",
       "      <th>3516413</th>\n",
       "      <td>Y</td>\n",
       "      <td>havana</td>\n",
       "      <td>CDS</td>\n",
       "      <td>57209822.0</td>\n",
       "      <td>57209980.0</td>\n",
       "      <td>.</td>\n",
       "      <td>+</td>\n",
       "      <td>2</td>\n",
       "      <td>ID=CDS:ENSP00000518618;Parent=transcript:ENST0...</td>\n",
       "    </tr>\n",
       "    <tr>\n",
       "      <th>3516415</th>\n",
       "      <td>Y</td>\n",
       "      <td>havana</td>\n",
       "      <td>CDS</td>\n",
       "      <td>57210640.0</td>\n",
       "      <td>57210792.0</td>\n",
       "      <td>.</td>\n",
       "      <td>+</td>\n",
       "      <td>2</td>\n",
       "      <td>ID=CDS:ENSP00000518618;Parent=transcript:ENST0...</td>\n",
       "    </tr>\n",
       "    <tr>\n",
       "      <th>3516417</th>\n",
       "      <td>Y</td>\n",
       "      <td>havana</td>\n",
       "      <td>CDS</td>\n",
       "      <td>57211552.0</td>\n",
       "      <td>57211620.0</td>\n",
       "      <td>.</td>\n",
       "      <td>+</td>\n",
       "      <td>2</td>\n",
       "      <td>ID=CDS:ENSP00000518618;Parent=transcript:ENST0...</td>\n",
       "    </tr>\n",
       "    <tr>\n",
       "      <th>3516419</th>\n",
       "      <td>Y</td>\n",
       "      <td>havana</td>\n",
       "      <td>CDS</td>\n",
       "      <td>57211761.0</td>\n",
       "      <td>57211894.0</td>\n",
       "      <td>.</td>\n",
       "      <td>+</td>\n",
       "      <td>2</td>\n",
       "      <td>ID=CDS:ENSP00000518618;Parent=transcript:ENST0...</td>\n",
       "    </tr>\n",
       "  </tbody>\n",
       "</table>\n",
       "<p>900145 rows × 9 columns</p>\n",
       "</div>"
      ],
      "text/plain": [
       "        Chr          Genome Type  First_index  Last_index Value Signal  \\\n",
       "99        1          havana  CDS      65565.0     65573.0     .      +   \n",
       "100       1          havana  CDS      69037.0     70008.0     .      +   \n",
       "398       1  ensembl_havana  CDS     450740.0    451678.0     .      -   \n",
       "544       1  ensembl_havana  CDS     685716.0    686654.0     .      -   \n",
       "1165      1          havana  CDS     924432.0    924948.0     .      +   \n",
       "...      ..             ...  ...          ...         ...   ...    ...   \n",
       "3516411   Y          havana  CDS   57209532.0  57209733.0     .      +   \n",
       "3516413   Y          havana  CDS   57209822.0  57209980.0     .      +   \n",
       "3516415   Y          havana  CDS   57210640.0  57210792.0     .      +   \n",
       "3516417   Y          havana  CDS   57211552.0  57211620.0     .      +   \n",
       "3516419   Y          havana  CDS   57211761.0  57211894.0     .      +   \n",
       "\n",
       "        Unknown                                        Identifiers  \n",
       "99            0  ID=CDS:ENSP00000493376;Parent=transcript:ENST0...  \n",
       "100           0  ID=CDS:ENSP00000493376;Parent=transcript:ENST0...  \n",
       "398           0  ID=CDS:ENSP00000409316;Parent=transcript:ENST0...  \n",
       "544           0  ID=CDS:ENSP00000329982;Parent=transcript:ENST0...  \n",
       "1165          0  ID=CDS:ENSP00000478421;Parent=transcript:ENST0...  \n",
       "...         ...                                                ...  \n",
       "3516411       0  ID=CDS:ENSP00000518618;Parent=transcript:ENST0...  \n",
       "3516413       2  ID=CDS:ENSP00000518618;Parent=transcript:ENST0...  \n",
       "3516415       2  ID=CDS:ENSP00000518618;Parent=transcript:ENST0...  \n",
       "3516417       2  ID=CDS:ENSP00000518618;Parent=transcript:ENST0...  \n",
       "3516419       2  ID=CDS:ENSP00000518618;Parent=transcript:ENST0...  \n",
       "\n",
       "[900145 rows x 9 columns]"
      ]
     },
     "execution_count": 9,
     "metadata": {},
     "output_type": "execute_result"
    }
   ],
   "source": [
    "#CDSs = tanscripts_df.loc[tanscripts_df['Type'] == \"CDS\"]\n",
    "#CDSs"
   ]
  },
  {
   "cell_type": "code",
   "execution_count": null,
   "id": "88886412-f91c-443a-88bd-dc83c0fef059",
   "metadata": {},
   "outputs": [],
   "source": [
    "#UTR3 = tanscripts_df.loc[tanscripts_df['Type'] == \"three_prime_UTR\"]\n",
    "#UTR3"
   ]
  },
  {
   "cell_type": "code",
   "execution_count": null,
   "id": "d0ffd1f7-d702-4f83-ae91-224ec476eede",
   "metadata": {
    "scrolled": true
   },
   "outputs": [],
   "source": [
    "#UTR5 = tanscripts_df.loc[tanscripts_df['Type'] == \"five_prime_UTR\"]\n",
    "#UTR5"
   ]
  },
  {
   "cell_type": "code",
   "execution_count": null,
   "id": "95fd5a0e-d545-4a5b-91ea-e343bccb93db",
   "metadata": {},
   "outputs": [],
   "source": [
    "#exons = tanscripts_df.loc[tanscripts_df['Type'] == \"exon\"]"
   ]
  },
  {
   "cell_type": "code",
   "execution_count": 13,
   "id": "68771014-458f-4233-9fc2-665e96aee4ef",
   "metadata": {},
   "outputs": [],
   "source": [
    "exons_dict = transcripts_NoOverlaps(\"exon\")\n",
    "exons_noOverlaps_df = transcripts_dict_toDF(exons_dict)"
   ]
  },
  {
   "cell_type": "code",
   "execution_count": 9,
   "id": "0c53ee97-fe1b-4189-8c44-7c21dad8f133",
   "metadata": {},
   "outputs": [],
   "source": [
    "def calc_avrg(df):\n",
    "    total_length = 0\n",
    "    for row in df.index:\n",
    "        length = df[\"Last_index\"][row] - df[\"First_index\"][row]\n",
    "        total_length += length\n",
    "    average = total_length/len(df)\n",
    "    return average    "
   ]
  },
  {
   "cell_type": "code",
   "execution_count": 10,
   "id": "c42a2969-7c5e-4728-9fbb-e88dd2c34e99",
   "metadata": {},
   "outputs": [
    {
     "name": "stdout",
     "output_type": "stream",
     "text": [
      "the average of length of 5 P UTR is:  125.94040486383874\n"
     ]
    }
   ],
   "source": [
    "#print(\"the average of length of 5 P UTR is: \", calc_avrg(UTR5))"
   ]
  },
  {
   "cell_type": "code",
   "execution_count": 11,
   "id": "5ac7201e-4e79-4e57-93d9-10465d00dcfe",
   "metadata": {},
   "outputs": [
    {
     "name": "stdout",
     "output_type": "stream",
     "text": [
      "the average of length of 3 P UTR is:  536.6863849410341\n"
     ]
    }
   ],
   "source": [
    "#print(\"the average of length of 3 P UTR is: \", calc_avrg(UTR3))"
   ]
  },
  {
   "cell_type": "code",
   "execution_count": 12,
   "id": "48f2c7aa-1799-4080-8d37-ef52834b015e",
   "metadata": {},
   "outputs": [],
   "source": [
    "#UTR5_chr1 = UTR5.loc[UTR5['Chr'] == \"1\"]\n",
    "#UTR5_chr1"
   ]
  },
  {
   "cell_type": "code",
   "execution_count": 13,
   "id": "00fd64af-31b9-4aef-a5e3-f378bbdbb951",
   "metadata": {},
   "outputs": [],
   "source": [
    "#UTR3_chr1 = UTR3.loc[UTR3['Chr'] == \"1\"]\n",
    "#UTR3_chr1"
   ]
  },
  {
   "cell_type": "code",
   "execution_count": 14,
   "id": "fbfe876a-24c7-4e84-8c77-87818186686b",
   "metadata": {},
   "outputs": [
    {
     "name": "stdout",
     "output_type": "stream",
     "text": [
      "the average of length of 5 P UTR in chr1 is:  129.71247762720532\n",
      "the average of length of 3 P UTR in chr1 is:  584.2451269035533\n"
     ]
    }
   ],
   "source": [
    "#print(\"the average of length of 5 P UTR in chr1 is: \", calc_avrg(UTR5_chr1))\n",
    "#print(\"the average of length of 3 P UTR in chr1 is: \", calc_avrg(UTR3_chr1))"
   ]
  },
  {
   "cell_type": "markdown",
   "id": "2ed828e3-ffd4-4ae3-8472-19cb20b3c004",
   "metadata": {},
   "source": [
    "##### O nº de sequecias assim como o comprimento médio de cada 3P UTR é superior a 5P UTR"
   ]
  },
  {
   "cell_type": "code",
   "execution_count": 5,
   "id": "e401cafa-6f6a-4c95-ab4b-fb61d8ae71c7",
   "metadata": {},
   "outputs": [],
   "source": [
    "def transcripts_NoOverlaps(element_type = \"CDS\"):\n",
    "    element_df = tanscripts_df.loc[tanscripts_df['Type'] == element_type]\n",
    "    elements_dict = {}\n",
    "    #elements_dict.update({\"header\": element_df.columns.tolist()})\n",
    "    count = 0\n",
    "    for row in element_df.index:\n",
    "        identifiers = element_df[\"Identifiers\"][row]\n",
    "        transcript_id = identifiers.split(\";\")[0]\n",
    "        transcript_length = element_df[\"Last_index\"][row] - element_df[\"First_index\"][row]\n",
    "        if transcript_id not in elements_dict.keys():\n",
    "        #if elements_dict.get(transcript_id) == None:\n",
    "            #elements_dict.update({transcript_id: (element_df.values[row], transcript_length)})\n",
    "            elements_dict.update({transcript_id: (element_df.iloc[[count]], transcript_length)})\n",
    "        else:\n",
    "            #print(\"resolving overlap...\")\n",
    "            if transcript_length > elements_dict[transcript_id][1]:\n",
    "                #elements_dict.update({transcript_id: (element_df.values[row], transcript_length)})\n",
    "                elements_dict.update({transcript_id: (element_df.iloc[[count]], transcript_length)})\n",
    "        count+=1\n",
    "\n",
    "    #transcripts_matrix = []\n",
    "    #for value in elements_dict.values():\n",
    "    #    transcripts_matrix.append(value[0])\n",
    "    return elements_dict"
   ]
  },
  {
   "cell_type": "code",
   "execution_count": 6,
   "id": "06f0a236-b022-43d5-9795-2c1d584dec14",
   "metadata": {},
   "outputs": [],
   "source": [
    "def transcripts_dict_toDF(dictionary):\n",
    "    transcripts_matrix = []\n",
    "    concat_list = []\n",
    "    for value in dictionary.values():\n",
    "        concat_list.append(value[0])\n",
    "    return pd.concat(concat_list)"
   ]
  },
  {
   "cell_type": "code",
   "execution_count": 7,
   "id": "7a4908a6-2e8a-4edf-8f3b-b4d8f5cda3bc",
   "metadata": {},
   "outputs": [],
   "source": [
    "def element_matrix(chromosomes_df, sequence_df):\n",
    "    \"\"\"\n",
    "    The matrix representing all intances of a sequence type available from the original transcripts dataframe\n",
    "    sequence_df = Genes, CDSs, 5, 3 prime UTR or exon \n",
    "    \"\"\"\n",
    "    Chromosomes_matrix = []\n",
    "    for line in chromosomes_df.index:\n",
    "        chromosome = chromosomes_df[\"Chr\"][line]\n",
    "        #print(\"searching citobands in chromossome: \", chromosome)\n",
    "        chr_size = int(chromosomes_df[\"Last_index\"][line])\n",
    "        chr_sequence = sequence_df.loc[sequence_df['Chr'] == chromosome]\n",
    "        chr_array = np.zeros((chr_size), dtype=int)\n",
    "        #elements region\n",
    "        for row in chr_sequence.index:\n",
    "            chr_array[int(chr_sequence[\"First_index\"][row]) : int(chr_sequence[\"Last_index\"][row])] += 1\n",
    "                \n",
    "        \n",
    "        Chromosomes_matrix.append(chr_array)\n",
    "    return Chromosomes_matrix"
   ]
  },
  {
   "cell_type": "code",
   "execution_count": 15,
   "id": "4b021586-024d-4911-91db-874664ab39ab",
   "metadata": {},
   "outputs": [],
   "source": [
    "def introns_exons_matrix(chromosomes_df, sequence1_df, exons_df):\n",
    "    \"\"\"\n",
    "    sequence1 = CDS_df, 5 prime UTR or 3 prime UTR\n",
    "    if sequence1_df: +2\n",
    "    if exon: +1\n",
    "    introns = 2\n",
    "    exons = 3\n",
    "    \"\"\"\n",
    "    Chromosomes_matrix = []\n",
    "    for line in chromosomes_df.index:\n",
    "        chromosome = chromosomes_df[\"Chr\"][line]\n",
    "        print(\"searching citobands in chromossome: \", chromosome)\n",
    "        chr_size = int(chromosomes_df[\"Last_index\"][line])\n",
    "        chr_sequence = sequence1_df.loc[sequence1_df['Chr'] == chromosome]         #can be CDS, 5 prime UTR or 3 prime UTR\n",
    "        chr_exons = exons_df.loc[exons_df['Chr'] == chromosome]\n",
    "        chr_array = np.zeros((chr_size), dtype=int)\n",
    "        for row in chr_sequence.index:\n",
    "            chr_array[int(chr_sequence[\"First_index\"][row]): int(chr_sequence[\"Last_index\"][row])] += 2\n",
    "        #exons region\n",
    "        for row in chr_exons.index:\n",
    "            chr_array[int(chr_exons[\"First_index\"][row]): int(chr_exons[\"Last_index\"][row])] += 1\n",
    "        \n",
    "        Chromosomes_matrix.append(chr_array)\n",
    "    return Chromosomes_matrix"
   ]
  },
  {
   "cell_type": "code",
   "execution_count": 8,
   "id": "29680702-3cd7-4ea0-a5c8-bb28bdc53c1f",
   "metadata": {},
   "outputs": [],
   "source": [
    "def calc_elementDensity(cytobands_df, element_matrix, col_name=\"Element_density\"):\n",
    "    #cytobands_df = cytobands_df.drop(cytobands_df[cytobands_df['Chromossome'] == 'chrM'].index)\n",
    "    densities = []\n",
    "    chromosomes = cytobands_df[\"Chromossome\"].unique()\n",
    "    for chrom in range(len(cytobands_df[\"Chromossome\"].unique())):             \n",
    "        chr_cytobands = cytobands_df.loc[cytobands_df['Chromossome'] == cytobands_df[\"Chromossome\"].unique()[chrom]]\n",
    "        #Calculo da densidade para cada cytoband\n",
    "        for row in chr_cytobands.index:\n",
    "            cytoband_array = element_matrix[chrom][int(chr_cytobands[\"First_index\"][row]):int(chr_cytobands[\"Last_index\"][row])]\n",
    "            dr_length = np.count_nonzero(cytoband_array)\n",
    "            cytoband_length = chr_cytobands[\"Size\"][row]\n",
    "            density = dr_length/cytoband_length\n",
    "            densities.append(round(density, 3))\n",
    "        \n",
    "    cytobands_df.insert(len(cytobands_df.columns), col_name, densities, True)"
   ]
  },
  {
   "cell_type": "code",
   "execution_count": 9,
   "id": "7018a62a-617e-4147-84cc-1de7f589a111",
   "metadata": {},
   "outputs": [],
   "source": [
    "UTR5_dict = transcripts_NoOverlaps(\"five_prime_UTR\")"
   ]
  },
  {
   "cell_type": "code",
   "execution_count": 10,
   "id": "665147a9-5757-4568-bec1-f3c095f89b4a",
   "metadata": {},
   "outputs": [],
   "source": [
    "UTR5_noOverlaps_df = transcripts_dict_toDF(UTR5_dict)"
   ]
  },
  {
   "cell_type": "code",
   "execution_count": 16,
   "id": "0122d174-1606-41a5-8dec-ae34c78476e8",
   "metadata": {},
   "outputs": [
    {
     "name": "stdout",
     "output_type": "stream",
     "text": [
      "searching citobands in chromossome:  1\n",
      "searching citobands in chromossome:  10\n",
      "searching citobands in chromossome:  11\n",
      "searching citobands in chromossome:  12\n",
      "searching citobands in chromossome:  13\n",
      "searching citobands in chromossome:  14\n",
      "searching citobands in chromossome:  15\n",
      "searching citobands in chromossome:  16\n",
      "searching citobands in chromossome:  17\n",
      "searching citobands in chromossome:  18\n",
      "searching citobands in chromossome:  19\n",
      "searching citobands in chromossome:  2\n",
      "searching citobands in chromossome:  20\n",
      "searching citobands in chromossome:  21\n",
      "searching citobands in chromossome:  22\n",
      "searching citobands in chromossome:  3\n",
      "searching citobands in chromossome:  4\n",
      "searching citobands in chromossome:  5\n",
      "searching citobands in chromossome:  6\n",
      "searching citobands in chromossome:  7\n",
      "searching citobands in chromossome:  8\n",
      "searching citobands in chromossome:  9\n",
      "searching citobands in chromossome:  MT\n",
      "searching citobands in chromossome:  X\n",
      "searching citobands in chromossome:  Y\n"
     ]
    }
   ],
   "source": [
    "UTR5_intronsExons_matrix = introns_exons_matrix(chromosmes, UTR5_noOverlaps_df, exons_noOverlaps_df)"
   ]
  },
  {
   "cell_type": "code",
   "execution_count": 18,
   "id": "5bc9b45f-7cab-4699-bda8-b5d392dfd2b0",
   "metadata": {},
   "outputs": [
    {
     "data": {
      "text/plain": [
       "497017"
      ]
     },
     "execution_count": 18,
     "metadata": {},
     "output_type": "execute_result"
    }
   ],
   "source": [
    "UTR5_intronsExons_matrix[0].tolist().count(4)"
   ]
  },
  {
   "cell_type": "code",
   "execution_count": 17,
   "id": "b5a28698-1bb8-49b7-8182-c457451c4afa",
   "metadata": {},
   "outputs": [],
   "source": [
    "#CDSs_matrix = element_matrix(chromosmes, CDSs)"
   ]
  },
  {
   "cell_type": "code",
   "execution_count": 18,
   "id": "0a16a57d-eab6-4cb2-9284-d85bf91b428d",
   "metadata": {},
   "outputs": [],
   "source": [
    "#UTR5_matrix = element_matrix(chromosmes, UTR5)"
   ]
  },
  {
   "cell_type": "code",
   "execution_count": 19,
   "id": "858841d2-1f02-48d5-8515-972eaf5f2ab4",
   "metadata": {},
   "outputs": [],
   "source": [
    "#UTR3_matrix = element_matrix(chromosmes, UTR3)"
   ]
  },
  {
   "cell_type": "code",
   "execution_count": 20,
   "id": "01c5de5f-a4d1-4d02-951e-01bb2490ee3c",
   "metadata": {},
   "outputs": [
    {
     "data": {
      "text/plain": [
       "807471"
      ]
     },
     "execution_count": 20,
     "metadata": {},
     "output_type": "execute_result"
    }
   ],
   "source": [
    "#CDSs_matrix[0].tolist().count(2)"
   ]
  },
  {
   "cell_type": "code",
   "execution_count": null,
   "id": "aa3a210e-270a-4098-aec6-4c13c0650b67",
   "metadata": {},
   "outputs": [],
   "source": [
    "UTR5_matrix[0].tolist().count(3)"
   ]
  },
  {
   "cell_type": "code",
   "execution_count": null,
   "id": "7ad54503-ac05-4a76-813e-f2471894de42",
   "metadata": {},
   "outputs": [],
   "source": [
    "#UTR3_matrix[0].tolist().count(2)"
   ]
  },
  {
   "cell_type": "code",
   "execution_count": null,
   "id": "5d0d6c7c-c462-4178-9c3e-4d8534524329",
   "metadata": {},
   "outputs": [],
   "source": []
  }
 ],
 "metadata": {
  "kernelspec": {
   "display_name": "Python 3 (ipykernel)",
   "language": "python",
   "name": "python3"
  },
  "language_info": {
   "codemirror_mode": {
    "name": "ipython",
    "version": 3
   },
   "file_extension": ".py",
   "mimetype": "text/x-python",
   "name": "python",
   "nbconvert_exporter": "python",
   "pygments_lexer": "ipython3",
   "version": "3.10.12"
  }
 },
 "nbformat": 4,
 "nbformat_minor": 5
}
