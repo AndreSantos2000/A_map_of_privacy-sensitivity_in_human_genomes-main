{
 "cells": [
  {
   "cell_type": "code",
   "execution_count": 1,
   "id": "a21874a8-d010-4105-9b2a-315ab08f5e8f",
   "metadata": {},
   "outputs": [],
   "source": [
    "def read_first_n_lines(input_file, n, output_file=None):\n",
    "    # Open the input file for reading\n",
    "    with open(input_file, 'r') as file:\n",
    "        # Read the first 10 lines\n",
    "        lines = [file.readline() for _ in range(n)]\n",
    "        \n",
    "    # If output_file is specified, write the first 10 lines to it\n",
    "    if output_file:\n",
    "        with open(output_file, 'w') as outfile:\n",
    "            outfile.writelines(lines)\n",
    "    else:\n",
    "        # Otherwise, print the lines to the console\n",
    "        for line in lines:\n",
    "            print(line, end='')\n"
   ]
  },
  {
   "cell_type": "code",
   "execution_count": 2,
   "id": "5b8c673f-71e7-4a79-b202-309bd722d5fb",
   "metadata": {},
   "outputs": [],
   "source": [
    "def read_frst_n_lines(input_file, n):\n",
    "    f = open(input_file, \"r\")\n",
    "    print(f.readlines()[:n])"
   ]
  },
  {
   "cell_type": "code",
   "execution_count": 8,
   "id": "eb32f606-d736-4b28-91ff-8ed5597c9d50",
   "metadata": {},
   "outputs": [],
   "source": [
    "DGs_read = \"/home/andre/Documents/trabalho/datasets/Disease_genes/GeneHancer/GenesAssociatedwithDiseases-GeneCards2.txt\"\n",
    "DGs_write = \"/home/andre/Documents/trabalho/datasets/Disease_genes/GeneHancer/GDs_GeneCards_treated.txt\"\n",
    "DGs_write2 = \"/home/andre/Documents/trabalho/datasets/Disease_genes/GeneHancer/GDs_GeneCards_treated2.txt\"\n",
    "DGs_write3 = \"/home/andre/Documents/trabalho/datasets/Disease_genes/GeneHancer/GDs_GeneCards_treated3.txt\"\n",
    "DGs_write_final = \"/home/andre/Documents/trabalho/datasets/Disease_genes/GeneHancer/GDs_GeneCards_treated_final.txt\""
   ]
  },
  {
   "cell_type": "code",
   "execution_count": 4,
   "id": "dc045989-cf13-4e75-a05d-39ac82d64b78",
   "metadata": {},
   "outputs": [
    {
     "name": "stdout",
     "output_type": "stream",
     "text": [
      "    The genes listed here cause, predispose or protect from diseases\n",
      "\n",
      "        \n",
      "            \n",
      "                \n",
      "                    Gene Symbol\n",
      "                    Gene Name\n",
      "                    Locus\n",
      "                    MalaCards Disorders (sorted by relevance)\n",
      "                \n",
      "            \n",
      "            \n",
      "                    \n",
      "                        A1BG\n",
      "                        Alpha-1-B Glycoprotein\n",
      "                        19q13.43\n",
      "                        \n",
      "                            \n",
      "                                \n",
      "\n",
      "                                        Voyeurism \n"
     ]
    }
   ],
   "source": [
    "read_first_n_lines(DGs_read, 21)"
   ]
  },
  {
   "cell_type": "code",
   "execution_count": 5,
   "id": "4dae28d3-1a79-40c9-af32-d0da55a2b8d2",
   "metadata": {},
   "outputs": [
    {
     "name": "stdout",
     "output_type": "stream",
     "text": [
      "['    The genes listed here cause, predispose or protect from diseases\\n', '\\n', '        \\n', '            \\n', '                \\n', '                    Gene Symbol\\n', '                    Gene Name\\n', '                    Locus\\n', '                    MalaCards Disorders (sorted by relevance)\\n', '                \\n']\n"
     ]
    }
   ],
   "source": [
    "read_frst_n_lines(DGs_read, 10)"
   ]
  },
  {
   "cell_type": "code",
   "execution_count": 6,
   "id": "3fa578c3-3eea-4332-b2cb-b3d470211ccc",
   "metadata": {},
   "outputs": [],
   "source": [
    "def contains_letters(s):\n",
    "    # Strip leading and trailing whitespace and check if any character is alphabetic\n",
    "    stripped_string = s.strip()\n",
    "    return any(char.isalpha() for char in stripped_string)"
   ]
  },
  {
   "cell_type": "code",
   "execution_count": 7,
   "id": "2560f7fc-4dce-4263-aa1d-9edb0e535b6c",
   "metadata": {},
   "outputs": [],
   "source": [
    "def DG_txt_treatment(input_file, n, output_file=None):\n",
    "    new_lines = []\n",
    "    f = open(input_file, \"r\")\n",
    "    for line in(f.readlines()[1:n]):\n",
    "        #print(line)\n",
    "        if contains_letters(line):\n",
    "            new_lines.append(line)\n",
    "    if output_file:\n",
    "        with open(output_file, 'w') as outfile:\n",
    "            outfile.writelines(new_lines)\n",
    "    else:\n",
    "        print(new_lines[:10])\n",
    "        "
   ]
  },
  {
   "cell_type": "code",
   "execution_count": 8,
   "id": "8968a300-8f23-48be-8d93-ff50aee53644",
   "metadata": {},
   "outputs": [],
   "source": [
    "DG_txt_treatment(DGs_read, -1, DGs_write)"
   ]
  },
  {
   "cell_type": "code",
   "execution_count": 51,
   "id": "5369f29a-be09-4933-ab59-e957dddb8167",
   "metadata": {},
   "outputs": [],
   "source": [
    "#def DG_txt_treatment_fase2(input_file, n, output_file=None):\n",
    "#    new_lines = []\n",
    "#    f = open(input_file, \"r\")\n",
    "#    new_lines.append(f.readline())\n",
    "#    count = 1\n",
    "#    for line in(f.readlines()[0:n]):\n",
    "#        #print(line)\n",
    "#        if line.count(\" \")<35:\n",
    "        #    if count < 3:\n",
    "        #        line = line[:-2]+\"\\t\"\n",
    "        #        count +=1\n",
    "        #    elif count == 3:\n",
    "        #        count == 1\n",
    "#            new_lines.append(line)#.strip())\n",
    "#    if output_file:\n",
    "#        with open(output_file, 'w') as outfile:\n",
    "#            outfile.writelines(new_lines)\n",
    "#    else:\n",
    "#        print(new_lines[:10])"
   ]
  },
  {
   "cell_type": "code",
   "execution_count": 45,
   "id": "19dba821-1030-408f-b1f3-772ad0d4ce90",
   "metadata": {},
   "outputs": [],
   "source": [
    "def num_ws_left(input_file):\n",
    "    ws_counts = []\n",
    "    f = open(input_file, \"r\")\n",
    "    for line in f.readlines()[-20:]:\n",
    "        whitespace_num_l = len(line) - len(line.lstrip())\n",
    "        print(\"numero de espaços à esquerda: \", whitespace_num_l)\n",
    "        print(\"linha: \", line)\n",
    "        ws_counts.append(whitespace_num_l)\n",
    "    f.close()\n",
    "    return ws_counts"
   ]
  },
  {
   "cell_type": "code",
   "execution_count": 53,
   "id": "31849998-84f0-4d40-a596-dd0db02d5361",
   "metadata": {},
   "outputs": [],
   "source": [
    "def DG_txt_treatment_fase2(input_file, n, output_file=None):\n",
    "    new_lines = []\n",
    "    f = open(input_file, \"r\")\n",
    "    notDisease_n = 0\n",
    "    diseases = \"\"\n",
    "    newrow = \"\"\n",
    "    for row in f.readlines()[:4]:\n",
    "        row = row[:-1]+\"\\t\"\n",
    "        newrow += row.lstrip()\n",
    "    newrow = newrow[:-1] + \"\\n\"\n",
    "    new_lines.append(newrow)\n",
    "    newrow = \"\"\n",
    "    line_count=1\n",
    "    f = open(input_file, \"r\")\n",
    "    for line in f.readlines()[4:n]:\n",
    "        whitespace_num = len(line) - len(line.lstrip())\n",
    "        if whitespace_num == 24:       #lines with 40 or more white spaces to the left are considered the diseases\n",
    "        #if line[-3] == \" \": \n",
    "            notDisease_n += 1\n",
    "            if notDisease_n == 1 and newrow != \"\" :\n",
    "                diseases = diseases[:-2]+\" \\n\"\n",
    "                line_count+=1\n",
    "                newrow += diseases\n",
    "                new_lines.append(newrow)\n",
    "                diseases = \"\"\n",
    "                newrow = \"\"\n",
    "            line = line[:-1]+\"\\t\"\n",
    "            newrow += line.lstrip()\n",
    "        elif whitespace_num == 40:  #Diseases enumerating lines\n",
    "            notDisease_n = 0\n",
    "            line = line[:-2]+\"; \"\n",
    "            diseases += line.lstrip()\n",
    "    f.close()\n",
    "    print(\"number of rows: \", line_count)\n",
    "    if output_file:\n",
    "        with open(output_file, 'w') as outfile:\n",
    "            outfile.writelines(new_lines)\n",
    "    else:\n",
    "        print(new_lines[:10])"
   ]
  },
  {
   "cell_type": "code",
   "execution_count": null,
   "id": "595532c2-a840-413b-a6f2-8bdf07b8537c",
   "metadata": {},
   "outputs": [],
   "source": [
    "f = open(DGs_write, \"r\")\n",
    "for line in(f.readlines()[1:10]):\n",
    "    print(line)\n",
    "    print(line.count(\" \"))"
   ]
  },
  {
   "cell_type": "code",
   "execution_count": null,
   "id": "ea34aaa6-8ec1-4005-8243-b083030c9ed6",
   "metadata": {},
   "outputs": [],
   "source": [
    "print(num_ws_left(DGs_write))"
   ]
  },
  {
   "cell_type": "code",
   "execution_count": null,
   "id": "8cc0835e-c292-4516-a4c8-115663f2c1fc",
   "metadata": {},
   "outputs": [],
   "source": []
  },
  {
   "cell_type": "code",
   "execution_count": 49,
   "id": "9238c86f-ff66-4953-8996-e634ea1711d8",
   "metadata": {},
   "outputs": [
    {
     "name": "stdout",
     "output_type": "stream",
     "text": [
      "['                    Gene Symbol\\n', '                    Gene Name\\n', '                    Locus\\n', '                    MalaCards Disorders (sorted by relevance)\\n', '                        A1BG\\n', '                        Alpha-1-B Glycoprotein\\n', '                        19q13.43\\n', '                                        Voyeurism \\n', '                                        Nephrotic Syndrome \\n', '                        A1CF\\n']\n"
     ]
    }
   ],
   "source": [
    "read_frst_n_lines(DGs_write, 10)"
   ]
  },
  {
   "cell_type": "code",
   "execution_count": 51,
   "id": "ac0cdf9b-7cea-46e1-86d6-febe67a82183",
   "metadata": {},
   "outputs": [],
   "source": [
    "#DG_txt_treatment_fase2(DGs_write)"
   ]
  },
  {
   "cell_type": "code",
   "execution_count": null,
   "id": "496329c5-92e4-4e02-a747-b9477e78066e",
   "metadata": {},
   "outputs": [],
   "source": [
    "#DG_txt_treatment_fase2(DGs_write, -1)#, DGs_write3)"
   ]
  },
  {
   "cell_type": "code",
   "execution_count": 82,
   "id": "3a38159c-84e9-4934-b259-3ca4354695c0",
   "metadata": {},
   "outputs": [],
   "source": [
    "#DG_txt_treatment_fase2(DGs_write, -1, DGs_write3)"
   ]
  },
  {
   "cell_type": "code",
   "execution_count": 52,
   "id": "77dc7942-311a-4d0f-8a81-430859848caf",
   "metadata": {},
   "outputs": [
    {
     "ename": "NameError",
     "evalue": "name 's' is not defined",
     "output_type": "error",
     "traceback": [
      "\u001b[0;31m---------------------------------------------------------------------------\u001b[0m",
      "\u001b[0;31mNameError\u001b[0m                                 Traceback (most recent call last)",
      "Cell \u001b[0;32mIn[52], line 1\u001b[0m\n\u001b[0;32m----> 1\u001b[0m \u001b[43mDG_txt_treatment_fase2\u001b[49m\u001b[43m(\u001b[49m\u001b[43mDGs_write\u001b[49m\u001b[43m,\u001b[49m\u001b[43m \u001b[49m\u001b[38;5;241;43m-\u001b[39;49m\u001b[38;5;241;43m1\u001b[39;49m\u001b[43m,\u001b[49m\u001b[43m \u001b[49m\u001b[43mDGs_write_final\u001b[49m\u001b[43m)\u001b[49m\n",
      "Cell \u001b[0;32mIn[48], line 16\u001b[0m, in \u001b[0;36mDG_txt_treatment_fase2\u001b[0;34m(input_file, n, output_file)\u001b[0m\n\u001b[1;32m     14\u001b[0m f \u001b[38;5;241m=\u001b[39m \u001b[38;5;28mopen\u001b[39m(input_file, \u001b[38;5;124m\"\u001b[39m\u001b[38;5;124mr\u001b[39m\u001b[38;5;124m\"\u001b[39m)\n\u001b[1;32m     15\u001b[0m \u001b[38;5;28;01mfor\u001b[39;00m line \u001b[38;5;129;01min\u001b[39;00m f\u001b[38;5;241m.\u001b[39mreadlines()[\u001b[38;5;241m4\u001b[39m:n]:\n\u001b[0;32m---> 16\u001b[0m     whitespace_num \u001b[38;5;241m=\u001b[39m \u001b[38;5;28mlen\u001b[39m(line) \u001b[38;5;241m-\u001b[39m \u001b[38;5;28mlen\u001b[39m(\u001b[43ms\u001b[49m\u001b[38;5;241m.\u001b[39mlstrip())\n\u001b[1;32m     17\u001b[0m     \u001b[38;5;28;01mif\u001b[39;00m whitespace_num \u001b[38;5;241m==\u001b[39m \u001b[38;5;241m24\u001b[39m:       \u001b[38;5;66;03m#lines with 40 or more white spaces to the left are considered the diseases\u001b[39;00m\n\u001b[1;32m     18\u001b[0m     \u001b[38;5;66;03m#if line[-3] == \" \": \u001b[39;00m\n\u001b[1;32m     19\u001b[0m         notDisease_n \u001b[38;5;241m+\u001b[39m\u001b[38;5;241m=\u001b[39m \u001b[38;5;241m1\u001b[39m\n",
      "\u001b[0;31mNameError\u001b[0m: name 's' is not defined"
     ]
    }
   ],
   "source": [
    "DG_txt_treatment_fase2(DGs_write, -1, DGs_write_final)"
   ]
  },
  {
   "cell_type": "code",
   "execution_count": 27,
   "id": "bbe04c50-cd90-40aa-b148-0b60475ef30c",
   "metadata": {},
   "outputs": [
    {
     "name": "stdout",
     "output_type": "stream",
     "text": [
      "ZWILCH\tZwilch Kinetochore Protein\t15q22.31\tChondrodysplasia With Platyspondyly, Distinctive Brachydactyly, Hydrocephaly, And Microphthalmia; Mosaic Variegated Aneuploidy Syndrome \n",
      "\n",
      "14\n",
      "ZWINT\tZW10 Interacting Kinetochore Protein\t10q21.1\tPrimary Autosomal Recessive Microcephaly \n",
      "\n",
      "7\n",
      "ZXDA\tZinc Finger X-Linked Duplicated A\tXp11.21\tOsteopathia Striata With Cranial Sclerosis \n",
      "\n",
      "9\n",
      "ZXDB\tZinc Finger X-Linked Duplicated B\tXp11.21\tOculopharyngodistal Myopathy 1; Osteopathia Striata With Cranial Sclerosis; Pyruvate Kinase Deficiency Of Red Cells \n",
      "\n",
      "18\n",
      "ZXDC\tZXD Family Zinc Finger C\t3q21.3\tMoyamoya Disease 1; Microcephalic Osteodysplastic Primordial Dwarfism, Type Ii \n",
      "\n",
      "13\n",
      "ZYG11B\tZyg-11 Family Member B, Cell Cycle Regulato \n",
      "\n",
      "7\n",
      "1p32.3\tCraniofacial Microsomia 1; Cardiomyopathy, Familial Hypertrophic, 26; Branchiootic Syndrome \n",
      "\n",
      "9\n",
      "ZYX\tZyxin\t7q34\tLipomatosis, Familial Multiple; Ewing Sarcoma; Acute Leukemia; Dilated Cardiomyopathy \n",
      "\n",
      "9\n",
      "ZZZ3\tZinc Finger ZZ-Type Containing 3\t1p31.1\tCombined Oxidative Phosphorylation Deficiency 24; Combined Oxidative Phosphorylation Deficiency 20; Charcot-Marie-Tooth Disease, Axonal, Type 2N; Abdominal Obesity-Metabolic Syndrome 1 \n",
      "\n",
      "23\n",
      "The GeneCards human gene database index: \tA\tB\tC\tD\tE\tF\tG\tH\tI\tJ\tK\tL\tM\tN\tO\tP\tQ\tR\tS\tT\tU\tV\tW\tX\tY\tZ\tRelease Notes\tWeizmann Institute\tLifeMap Sciences Inc\tGeneCards Team\tTerms and Conditions\tUser Feedback\tPrivacy Policy\tGENECARDS SUITE PRODUCTS ARE FOR RESEARCH USE ONLY, DO NOT PROVIDE MEDICAL ADVICE AND ARE NOT FOR USE IN DIAGNOSTIC PROCEDURES; Copyright &copy; 1996-2024 , Weizmann Institute of Science. All Rights Reserved \n",
      "\n",
      "47\n"
     ]
    }
   ],
   "source": [
    "f = open(DGs_write_final, \"r\")\n",
    "for line in(f.readlines()[-10:]):\n",
    "    print(line)\n",
    "    print(line.count(\" \"))"
   ]
  },
  {
   "cell_type": "code",
   "execution_count": null,
   "id": "93f96ad7-07e2-4937-8e3c-71bb528a231c",
   "metadata": {},
   "outputs": [],
   "source": []
  },
  {
   "cell_type": "code",
   "execution_count": null,
   "id": "5b31b043-f332-4600-97e9-dcbe7a528379",
   "metadata": {},
   "outputs": [],
   "source": []
  }
 ],
 "metadata": {
  "kernelspec": {
   "display_name": "Python 3 (ipykernel)",
   "language": "python",
   "name": "python3"
  },
  "language_info": {
   "codemirror_mode": {
    "name": "ipython",
    "version": 3
   },
   "file_extension": ".py",
   "mimetype": "text/x-python",
   "name": "python",
   "nbconvert_exporter": "python",
   "pygments_lexer": "ipython3",
   "version": "3.10.12"
  }
 },
 "nbformat": 4,
 "nbformat_minor": 5
}
