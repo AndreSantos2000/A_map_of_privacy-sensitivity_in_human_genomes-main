{
 "cells": [
  {
   "cell_type": "code",
   "execution_count": 1,
   "id": "a21874a8-d010-4105-9b2a-315ab08f5e8f",
   "metadata": {},
   "outputs": [],
   "source": [
    "def read_first_n_lines(input_file, n, output_file=None):\n",
    "    # Open the input file for reading\n",
    "    with open(input_file, 'r') as file:\n",
    "        # Read the first 10 lines\n",
    "        lines = [file.readline() for _ in range(n)]\n",
    "        \n",
    "    # If output_file is specified, write the first 10 lines to it\n",
    "    if output_file:\n",
    "        with open(output_file, 'w') as outfile:\n",
    "            outfile.writelines(lines)\n",
    "    else:\n",
    "        # Otherwise, print the lines to the console\n",
    "        for line in lines:\n",
    "            print(line, end='')\n"
   ]
  },
  {
   "cell_type": "code",
   "execution_count": 2,
   "id": "5b8c673f-71e7-4a79-b202-309bd722d5fb",
   "metadata": {},
   "outputs": [],
   "source": [
    "def read_frst_n_lines(input_file, n):\n",
    "    f = open(input_file, \"r\")\n",
    "    print(f.readlines()[:n])"
   ]
  },
  {
   "cell_type": "code",
   "execution_count": 8,
   "id": "eb32f606-d736-4b28-91ff-8ed5597c9d50",
   "metadata": {},
   "outputs": [],
   "source": [
    "DGs_read = \"/home/andre/Documents/trabalho/datasets/Disease_genes/GeneHancer/GenesAssociatedwithDiseases-GeneCards2.txt\"\n",
    "DGs_write = \"/home/andre/Documents/trabalho/datasets/Disease_genes/GeneHancer/GDs_GeneCards_treated.txt\"\n",
    "DGs_write2 = \"/home/andre/Documents/trabalho/datasets/Disease_genes/GeneHancer/GDs_GeneCards_treated2.txt\"\n",
    "DGs_write3 = \"/home/andre/Documents/trabalho/datasets/Disease_genes/GeneHancer/GDs_GeneCards_treated3.txt\"\n",
    "DGs_write_final = \"/home/andre/Documents/trabalho/datasets/Disease_genes/GeneHancer/GDs_GeneCards_treated_final.txt\""
   ]
  },
  {
   "cell_type": "code",
   "execution_count": 4,
   "id": "dc045989-cf13-4e75-a05d-39ac82d64b78",
   "metadata": {},
   "outputs": [
    {
     "name": "stdout",
     "output_type": "stream",
     "text": [
      "    The genes listed here cause, predispose or protect from diseases\n",
      "\n",
      "        \n",
      "            \n",
      "                \n",
      "                    Gene Symbol\n",
      "                    Gene Name\n",
      "                    Locus\n",
      "                    MalaCards Disorders (sorted by relevance)\n",
      "                \n",
      "            \n",
      "            \n",
      "                    \n",
      "                        A1BG\n",
      "                        Alpha-1-B Glycoprotein\n",
      "                        19q13.43\n",
      "                        \n",
      "                            \n",
      "                                \n",
      "\n",
      "                                        Voyeurism \n"
     ]
    }
   ],
   "source": [
    "read_first_n_lines(DGs_read, 21)"
   ]
  },
  {
   "cell_type": "code",
   "execution_count": 5,
   "id": "4dae28d3-1a79-40c9-af32-d0da55a2b8d2",
   "metadata": {},
   "outputs": [
    {
     "name": "stdout",
     "output_type": "stream",
     "text": [
      "['    The genes listed here cause, predispose or protect from diseases\\n', '\\n', '        \\n', '            \\n', '                \\n', '                    Gene Symbol\\n', '                    Gene Name\\n', '                    Locus\\n', '                    MalaCards Disorders (sorted by relevance)\\n', '                \\n']\n"
     ]
    }
   ],
   "source": [
    "read_frst_n_lines(DGs_read, 10)"
   ]
  },
  {
   "cell_type": "code",
   "execution_count": 6,
   "id": "3fa578c3-3eea-4332-b2cb-b3d470211ccc",
   "metadata": {},
   "outputs": [],
   "source": [
    "def contains_letters(s):\n",
    "    # Strip leading and trailing whitespace and check if any character is alphabetic\n",
    "    stripped_string = s.strip()\n",
    "    return any(char.isalpha() for char in stripped_string)"
   ]
  },
  {
   "cell_type": "code",
   "execution_count": 7,
   "id": "2560f7fc-4dce-4263-aa1d-9edb0e535b6c",
   "metadata": {},
   "outputs": [],
   "source": [
    "def DG_txt_treatment(input_file, n, output_file=None):\n",
    "    new_lines = []\n",
    "    f = open(input_file, \"r\")\n",
    "    for line in(f.readlines()[1:n]):\n",
    "        #print(line)\n",
    "        if contains_letters(line):\n",
    "            new_lines.append(line)\n",
    "    if output_file:\n",
    "        with open(output_file, 'w') as outfile:\n",
    "            outfile.writelines(new_lines)\n",
    "    else:\n",
    "        print(new_lines[:10])\n",
    "        "
   ]
  },
  {
   "cell_type": "code",
   "execution_count": 8,
   "id": "8968a300-8f23-48be-8d93-ff50aee53644",
   "metadata": {},
   "outputs": [],
   "source": [
    "DG_txt_treatment(DGs_read, -1, DGs_write)"
   ]
  },
  {
   "cell_type": "code",
   "execution_count": 51,
   "id": "5369f29a-be09-4933-ab59-e957dddb8167",
   "metadata": {},
   "outputs": [],
   "source": [
    "#def DG_txt_treatment_fase2(input_file, n, output_file=None):\n",
    "#    new_lines = []\n",
    "#    f = open(input_file, \"r\")\n",
    "#    new_lines.append(f.readline())\n",
    "#    count = 1\n",
    "#    for line in(f.readlines()[0:n]):\n",
    "#        #print(line)\n",
    "#        if line.count(\" \")<35:\n",
    "        #    if count < 3:\n",
    "        #        line = line[:-2]+\"\\t\"\n",
    "        #        count +=1\n",
    "        #    elif count == 3:\n",
    "        #        count == 1\n",
    "#            new_lines.append(line)#.strip())\n",
    "#    if output_file:\n",
    "#        with open(output_file, 'w') as outfile:\n",
    "#            outfile.writelines(new_lines)\n",
    "#    else:\n",
    "#        print(new_lines[:10])"
   ]
  },
  {
   "cell_type": "code",
   "execution_count": 45,
   "id": "19dba821-1030-408f-b1f3-772ad0d4ce90",
   "metadata": {},
   "outputs": [],
   "source": [
    "def num_ws_left(input_file):\n",
    "    ws_counts = []\n",
    "    f = open(input_file, \"r\")\n",
    "    for line in f.readlines()[-20:]:\n",
    "        whitespace_num_l = len(line) - len(line.lstrip())\n",
    "        print(\"numero de espaços à esquerda: \", whitespace_num_l)\n",
    "        print(\"linha: \", line)\n",
    "        ws_counts.append(whitespace_num_l)\n",
    "    f.close()\n",
    "    return ws_counts"
   ]
  },
  {
   "cell_type": "code",
   "execution_count": 53,
   "id": "31849998-84f0-4d40-a596-dd0db02d5361",
   "metadata": {},
   "outputs": [],
   "source": [
    "def DG_txt_treatment_fase2(input_file, n, output_file=None):\n",
    "    new_lines = []\n",
    "    f = open(input_file, \"r\")\n",
    "    notDisease_n = 0\n",
    "    diseases = \"\"\n",
    "    newrow = \"\"\n",
    "    for row in f.readlines()[:4]:\n",
    "        row = row[:-1]+\"\\t\"\n",
    "        newrow += row.lstrip()\n",
    "    newrow = newrow[:-1] + \"\\n\"\n",
    "    new_lines.append(newrow)\n",
    "    newrow = \"\"\n",
    "    line_count=1\n",
    "    f = open(input_file, \"r\")\n",
    "    for line in f.readlines()[4:n]:\n",
    "        whitespace_num = len(line) - len(line.lstrip())\n",
    "        if whitespace_num == 24:       #lines with 40 or more white spaces to the left are considered the diseases\n",
    "        #if line[-3] == \" \": \n",
    "            notDisease_n += 1\n",
    "            if notDisease_n == 1 and newrow != \"\" :\n",
    "                diseases = diseases[:-2]+\" \\n\"\n",
    "                line_count+=1\n",
    "                newrow += diseases\n",
    "                new_lines.append(newrow)\n",
    "                diseases = \"\"\n",
    "                newrow = \"\"\n",
    "            line = line[:-1]+\"\\t\"\n",
    "            newrow += line.lstrip()\n",
    "        elif whitespace_num == 40:  #Diseases enumerating lines\n",
    "            notDisease_n = 0\n",
    "            line = line[:-2]+\"; \"\n",
    "            diseases += line.lstrip()\n",
    "    f.close()\n",
    "    print(\"number of rows: \", line_count)\n",
    "    if output_file:\n",
    "        with open(output_file, 'w') as outfile:\n",
    "            outfile.writelines(new_lines)\n",
    "    else:\n",
    "        print(new_lines[:10])"
   ]
  },
  {
   "cell_type": "code",
   "execution_count": null,
   "id": "595532c2-a840-413b-a6f2-8bdf07b8537c",
   "metadata": {},
   "outputs": [],
   "source": [
    "f = open(DGs_write, \"r\")\n",
    "for line in(f.readlines()[1:10]):\n",
    "    print(line)\n",
    "    print(line.count(\" \"))"
   ]
  },
  {
   "cell_type": "code",
   "execution_count": null,
   "id": "ea34aaa6-8ec1-4005-8243-b083030c9ed6",
   "metadata": {},
   "outputs": [],
   "source": [
    "print(num_ws_left(DGs_write))"
   ]
  },
  {
   "cell_type": "code",
   "execution_count": null,
   "id": "8cc0835e-c292-4516-a4c8-115663f2c1fc",
   "metadata": {},
   "outputs": [],
   "source": []
  },
  {
   "cell_type": "code",
   "execution_count": 49,
   "id": "9238c86f-ff66-4953-8996-e634ea1711d8",
   "metadata": {},
   "outputs": [
    {
     "name": "stdout",
     "output_type": "stream",
     "text": [
      "['                    Gene Symbol\\n', '                    Gene Name\\n', '                    Locus\\n', '                    MalaCards Disorders (sorted by relevance)\\n', '                        A1BG\\n', '                        Alpha-1-B Glycoprotein\\n', '                        19q13.43\\n', '                                        Voyeurism \\n', '                                        Nephrotic Syndrome \\n', '                        A1CF\\n']\n"
     ]
    }
   ],
   "source": [
    "read_frst_n_lines(DGs_write, 10)"
   ]
  },
  {
   "cell_type": "code",
   "execution_count": 51,
   "id": "ac0cdf9b-7cea-46e1-86d6-febe67a82183",
   "metadata": {},
   "outputs": [],
   "source": [
    "#DG_txt_treatment_fase2(DGs_write)"
   ]
  },
  {
   "cell_type": "code",
   "execution_count": null,
   "id": "496329c5-92e4-4e02-a747-b9477e78066e",
   "metadata": {},
   "outputs": [],
   "source": [
    "#DG_txt_treatment_fase2(DGs_write, -1)#, DGs_write3)"
   ]
  },
  {
   "cell_type": "code",
   "execution_count": 82,
   "id": "3a38159c-84e9-4934-b259-3ca4354695c0",
   "metadata": {},
   "outputs": [],
   "source": [
    "#DG_txt_treatment_fase2(DGs_write, -1, DGs_write3)"
   ]
  },
  {
   "cell_type": "code",
   "execution_count": 54,
   "id": "77dc7942-311a-4d0f-8a81-430859848caf",
   "metadata": {},
   "outputs": [
    {
     "name": "stdout",
     "output_type": "stream",
     "text": [
      "number of rows:  22146\n"
     ]
    }
   ],
   "source": [
    "DG_txt_treatment_fase2(DGs_write, -1, DGs_write_final)"
   ]
  },
  {
   "cell_type": "code",
   "execution_count": 56,
   "id": "93f96ad7-07e2-4937-8e3c-71bb528a231c",
   "metadata": {},
   "outputs": [
    {
     "name": "stdout",
     "output_type": "stream",
     "text": [
      "['Gene Symbol\\tGene Name\\tLocus\\tMalaCards Disorders (sorted by relevance)\\n', 'A1BG\\tAlpha-1-B Glycoprotein\\t19q13.43\\tVoyeurism; Nephrotic Syndrome \\n', 'A1CF\\tAPOBEC1 Complementation Factor\\t10q11.23\\tLynch Syndrome 2 \\n', 'A2M\\tAlpha-2-Macroglobulin\\t12p13.31\\tAlpha-2-Macroglobulin Deficiency; Alzheimer&#39;s Disease; Bernard-Soulier Syndrome; Autosomal Dominant Non-Syndromic Intellectual Disability; Frontotemporal Dementia And/Or Amyotrophic Lateral Sclerosis 7; Alzheimer Disease, Familial, 1; Mastitis; Gingivitis; Breast Intraductal Papillomatosis; Nephrotic Syndrome; Arteriosclerosis; Pancreatitis; Dementia; Cystic Fibrosis; Cerebral Amyloid Angiopathy; Alpha-1-Antitrypsin Deficiency; Diabetes Mellitus; Parkinson&#39;s Disease; Vascular Disease; Lysosomal Storage Disease; Bone Disease; Immune Deficiency Disease; Deficiency Anemia; Hematologic Cancer; Epilepsy; Autism Spectrum Disorder \\n', 'A2M-AS1\\tA2M Antisense RNA 1\\t12p13.31\\tGastric Cancer \\n', 'A2ML1\\tAlpha-2-Macroglobulin Like 1\\t12p13.31\\tOtitis Media; Brugada Syndrome 6; Baraitser-Winter Syndrome 1; Noonan Syndrome-Like Disorder With Or Without Juvenile Myelomonocytic Leukemia; Brugada Syndrome 5; Legius Syndrome; Noonan Syndrome 1; Paraneoplastic Pemphigus; Opitz-Kaveggia Syndrome; Immune Deficiency Disease; Epilepsy, Idiopathic Generalized; Pemphigus; Chronic Purulent Otitis Media; Suppurative Otitis Media; Achilles Bursitis; Autism Spectrum Disorder; Noonan Syndrome-Like Disorder With Loose Anagen Hair 2; Subcorneal Pustular Dermatosis; Pseudomembranous Conjunctivitis; Iga Pemphigus; Neurofibromatosis-Noonan Syndrome; Acute Conjunctivitis; Pulmonary Valve Stenosis; Pulmonary Valve Disease; Cardiofaciocutaneous Syndrome; Pylorospasm; Cystic Lymphangioma; Noonan Syndrome-Like Disorder With Loose Anagen Hair; Pemphigus Vulgaris, Familial; Noonan Syndrome With Multiple Lentigines; Castleman Disease; Bronchiolitis Obliterans; Bullous Skin Disease; Costello Syndrome; Middle Ear Disease; Cardiofaciocutaneous Syndrome 1; Rasopathy; Hypertrophic Cardiomyopathy \\n', 'A2ML1-AS1\\tA2ML1 Antisense RNA 1\\t12p13.31\\tOtitis Media \\n', 'A2ML1-AS2\\tA2ML1 Antisense RNA 2\\t12p13.31\\tTrisomy 12P \\n', 'A3GALT2\\tAlpha 1,3-Galactosyltransferase 2\\t1p35.1\\tFabry Disease \\n', 'A4GALT\\tAlpha 1,4-Galactosyltransferase (P1PK Blood Group)\\t22q13.2\\tBlood Group, P1pk System; Caffey Disease; Blood Group Incompatibility; Hemolytic Disease Of The Fetus; Liver Failure, Infantile, Transient; Schindler Disease; Salt And Pepper Syndrome; Angiokeratoma; Fabry Disease; Anemia, Congenital Dyserythropoietic, Type Iv; Sphingolipidosis; Gm1 Gangliosidosis \\n']\n"
     ]
    }
   ],
   "source": [
    "read_frst_n_lines(DGs_write_final, 10)"
   ]
  },
  {
   "cell_type": "code",
   "execution_count": null,
   "id": "5b31b043-f332-4600-97e9-dcbe7a528379",
   "metadata": {},
   "outputs": [],
   "source": []
  }
 ],
 "metadata": {
  "kernelspec": {
   "display_name": "Python 3 (ipykernel)",
   "language": "python",
   "name": "python3"
  },
  "language_info": {
   "codemirror_mode": {
    "name": "ipython",
    "version": 3
   },
   "file_extension": ".py",
   "mimetype": "text/x-python",
   "name": "python",
   "nbconvert_exporter": "python",
   "pygments_lexer": "ipython3",
   "version": "3.10.12"
  }
 },
 "nbformat": 4,
 "nbformat_minor": 5
}
