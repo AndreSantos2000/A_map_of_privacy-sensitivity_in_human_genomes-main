{
 "cells": [
  {
   "cell_type": "code",
   "execution_count": 4,
   "id": "a21874a8-d010-4105-9b2a-315ab08f5e8f",
   "metadata": {},
   "outputs": [],
   "source": [
    "def read_first_n_lines(input_file, n, output_file=None):\n",
    "    # Open the input file for reading\n",
    "    with open(input_file, 'r') as file:\n",
    "        # Read the first 10 lines\n",
    "        lines = [file.readline() for _ in range(n)]\n",
    "        \n",
    "    # If output_file is specified, write the first 10 lines to it\n",
    "    if output_file:\n",
    "        with open(output_file, 'w') as outfile:\n",
    "            outfile.writelines(lines)\n",
    "    else:\n",
    "        # Otherwise, print the lines to the console\n",
    "        for line in lines:\n",
    "            print(line, end='')\n"
   ]
  },
  {
   "cell_type": "code",
   "execution_count": 14,
   "id": "5b8c673f-71e7-4a79-b202-309bd722d5fb",
   "metadata": {},
   "outputs": [],
   "source": [
    "def read_frst_n_lines(input_file, n):\n",
    "    f = open(input_file, \"r\")\n",
    "    print(f.readlines()[:n])"
   ]
  },
  {
   "cell_type": "code",
   "execution_count": 21,
   "id": "eb32f606-d736-4b28-91ff-8ed5597c9d50",
   "metadata": {},
   "outputs": [],
   "source": [
    "DGs_read = \"/home/andre/Documents/trabalho/datasets/Disease_genes/GeneHancer/GenesAssociatedwithDiseases-GeneCards2.txt\"\n",
    "DGs_write = \"/home/andre/Documents/trabalho/datasets/Disease_genes/GeneHancer/GDs_GeneCards_treated.txt\""
   ]
  },
  {
   "cell_type": "code",
   "execution_count": 9,
   "id": "dc045989-cf13-4e75-a05d-39ac82d64b78",
   "metadata": {},
   "outputs": [
    {
     "name": "stdout",
     "output_type": "stream",
     "text": [
      "    The genes listed here cause, predispose or protect from diseases\n",
      "\n",
      "        \n",
      "            \n",
      "                \n",
      "                    Gene Symbol\n",
      "                    Gene Name\n",
      "                    Locus\n",
      "                    MalaCards Disorders (sorted by relevance)\n",
      "                \n",
      "            \n",
      "            \n",
      "                    \n",
      "                        A1BG\n",
      "                        Alpha-1-B Glycoprotein\n",
      "                        19q13.43\n",
      "                        \n",
      "                            \n",
      "                                \n",
      "\n",
      "                                        Voyeurism \n"
     ]
    }
   ],
   "source": [
    "read_first_n_lines(DGs_read, 21)"
   ]
  },
  {
   "cell_type": "code",
   "execution_count": 15,
   "id": "4dae28d3-1a79-40c9-af32-d0da55a2b8d2",
   "metadata": {},
   "outputs": [
    {
     "name": "stdout",
     "output_type": "stream",
     "text": [
      "['    The genes listed here cause, predispose or protect from diseases\\n', '\\n', '        \\n', '            \\n', '                \\n', '                    Gene Symbol\\n', '                    Gene Name\\n', '                    Locus\\n', '                    MalaCards Disorders (sorted by relevance)\\n', '                \\n']\n"
     ]
    }
   ],
   "source": [
    "read_frst_n_lines(DGs_read, 10)"
   ]
  },
  {
   "cell_type": "code",
   "execution_count": 18,
   "id": "3fa578c3-3eea-4332-b2cb-b3d470211ccc",
   "metadata": {},
   "outputs": [],
   "source": [
    "def contains_letters(s):\n",
    "    # Strip leading and trailing whitespace and check if any character is alphabetic\n",
    "    stripped_string = s.strip()\n",
    "    return any(char.isalpha() for char in stripped_string)"
   ]
  },
  {
   "cell_type": "code",
   "execution_count": 23,
   "id": "2560f7fc-4dce-4263-aa1d-9edb0e535b6c",
   "metadata": {},
   "outputs": [],
   "source": [
    "def DG_txt_treatment(input_file, n, output_file=None):\n",
    "    new_lines = []\n",
    "    f = open(input_file, \"r\")\n",
    "    for line in(f.readlines()[1:n]):\n",
    "        #print(line)\n",
    "        if contains_letters(line):\n",
    "            new_lines.append(line)\n",
    "    if output_file:\n",
    "        with open(output_file, 'w') as outfile:\n",
    "            outfile.writelines(new_lines)\n",
    "    else:\n",
    "        print(new_lines[:10])\n",
    "        "
   ]
  },
  {
   "cell_type": "code",
   "execution_count": 25,
   "id": "8968a300-8f23-48be-8d93-ff50aee53644",
   "metadata": {},
   "outputs": [],
   "source": [
    "DG_txt_treatment(DGs_read, -1, DGs_write)"
   ]
  },
  {
   "cell_type": "code",
   "execution_count": null,
   "id": "5369f29a-be09-4933-ab59-e957dddb8167",
   "metadata": {},
   "outputs": [],
   "source": []
  }
 ],
 "metadata": {
  "kernelspec": {
   "display_name": "Python 3 (ipykernel)",
   "language": "python",
   "name": "python3"
  },
  "language_info": {
   "codemirror_mode": {
    "name": "ipython",
    "version": 3
   },
   "file_extension": ".py",
   "mimetype": "text/x-python",
   "name": "python",
   "nbconvert_exporter": "python",
   "pygments_lexer": "ipython3",
   "version": "3.10.12"
  }
 },
 "nbformat": 4,
 "nbformat_minor": 5
}
